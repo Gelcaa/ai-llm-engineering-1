{
  "cells": [
    {
      "cell_type": "markdown",
      "metadata": {
        "id": "gJXW_DgiSebM"
      },
      "source": [
        "# LangGraph and LangSmith - Agentic RAG Powered by LangChain\n",
        "\n",
        "In the following notebook we'll complete the following tasks:\n",
        "\n",
        "- 🤝 Breakout Room #1:\n",
        "  1. Install required libraries\n",
        "  2. Set Environment Variables\n",
        "  3. Creating our Tool Belt\n",
        "  4. Creating Our State\n",
        "  5. Creating and Compiling A Graph!\n",
        "\n",
        "- 🤝 Breakout Room #2:\n",
        "  1. Evaluating the LangGraph Application with LangSmith\n",
        "  2. Adding Helpfulness Check and \"Loop\" Limits\n",
        "  3. LangGraph for the \"Patterns\" of GenAI"
      ]
    },
    {
      "cell_type": "markdown",
      "metadata": {
        "id": "djQ3nRAgoF67"
      },
      "source": [
        "# 🤝 Breakout Room #1"
      ]
    },
    {
      "cell_type": "markdown",
      "metadata": {
        "id": "e7pQDUhUnIo8"
      },
      "source": [
        "## Part 1: LangGraph - Building Cyclic Applications with LangChain\n",
        "\n",
        "LangGraph is a tool that leverages LangChain Expression Language to build coordinated multi-actor and stateful applications that includes cyclic behaviour.\n",
        "\n",
        "### Why Cycles?\n",
        "\n",
        "In essence, we can think of a cycle in our graph as a more robust and customizable loop. It allows us to keep our application agent-forward while still giving the powerful functionality of traditional loops.\n",
        "\n",
        "Due to the inclusion of cycles over loops, we can also compose rather complex flows through our graph in a much more readable and natural fashion. Effectively allowing us to recreate application flowcharts in code in an almost 1-to-1 fashion.\n",
        "\n",
        "### Why LangGraph?\n",
        "\n",
        "Beyond the agent-forward approach - we can easily compose and combine traditional \"DAG\" (directed acyclic graph) chains with powerful cyclic behaviour due to the tight integration with LCEL. This means it's a natural extension to LangChain's core offerings!"
      ]
    },
    {
      "cell_type": "markdown",
      "metadata": {
        "id": "3_fLDElOVoop"
      },
      "source": [
        "## Task 1:  Dependencies\n"
      ]
    },
    {
      "cell_type": "markdown",
      "metadata": {
        "id": "wujPjGJuoPwg"
      },
      "source": [
        "## Task 2: Environment Variables\n",
        "\n",
        "We'll want to set both our OpenAI API key and our LangSmith environment variables."
      ]
    },
    {
      "cell_type": "code",
      "execution_count": 2,
      "metadata": {
        "colab": {
          "base_uri": "https://localhost:8080/"
        },
        "id": "Jdh8CoVWHRvs",
        "outputId": "3fa78560-393c-4ee5-b871-9886bf0d70f4"
      },
      "outputs": [],
      "source": [
        "import os\n",
        "import openai\n",
        "from dotenv import load_dotenv\n",
        "load_dotenv(dotenv_path=\"../.env\")\n",
        "openai.api_key = os.getenv(\"OPENAI_API_KEY\")"
      ]
    },
    {
      "cell_type": "code",
      "execution_count": 3,
      "metadata": {
        "colab": {
          "base_uri": "https://localhost:8080/"
        },
        "id": "Jkla2fpx28QK",
        "outputId": "52d7ad22-fcb1-4abe-853b-216c55a12650"
      },
      "outputs": [],
      "source": [
        "os.environ[\"TAVILY_API_KEY\"] = os.getenv(\"TAVILY_API_KEY\")"
      ]
    },
    {
      "cell_type": "code",
      "execution_count": 4,
      "metadata": {
        "colab": {
          "base_uri": "https://localhost:8080/"
        },
        "id": "Nv0glIDyHmRt",
        "outputId": "b69df90a-b4e1-4ddb-9de0-882d98b68ab2"
      },
      "outputs": [],
      "source": [
        "from uuid import uuid4\n",
        "\n",
        "os.environ[\"LANGCHAIN_TRACING_V2\"] = \"true\"\n",
        "os.environ[\"LANGCHAIN_PROJECT\"] = f\"PSI AIE6 - LangGraph - {uuid4().hex[0:8]}\"\n",
        "os.environ[\"LANGCHAIN_API_KEY\"] = os.getenv(\"LANGSMITH_API_KEY\")"
      ]
    },
    {
      "cell_type": "markdown",
      "metadata": {
        "id": "sBRyQmEAVzua"
      },
      "source": [
        "## Task 3: Creating our Tool Belt\n",
        "\n",
        "As is usually the case, we'll want to equip our agent with a toolbelt to help answer questions and add external knowledge.\n",
        "\n",
        "There's a tonne of tools in the [LangChain Community Repo](https://github.com/langchain-ai/langchain-community/tree/main/libs/community) but we'll stick to a couple just so we can observe the cyclic nature of LangGraph in action!\n",
        "\n",
        "We'll leverage:\n",
        "\n",
        "- [Tavily Search Results](https://github.com/langchain-ai/langchain-community/blob/main/libs/community/langchain_community/tools/tavily_search/tool.py)\n",
        "- [Arxiv](https://github.com/langchain-ai/langchain-community/blob/main/libs/community/langchain_community/tools/arxiv/tool.py)"
      ]
    },
    {
      "cell_type": "markdown",
      "metadata": {
        "id": "2k6n_Dob2F46"
      },
      "source": [
        "#### 🏗️ Activity #1:\n",
        "\n",
        "Please add the tools to use into our toolbelt.\n",
        "\n",
        "> NOTE: Each tool in our toolbelt should be a method."
      ]
    },
    {
      "cell_type": "code",
      "execution_count": 5,
      "metadata": {
        "id": "lAxaSvlfIeOg"
      },
      "outputs": [
        {
          "name": "stderr",
          "output_type": "stream",
          "text": [
            "C:\\Users\\angelica\\AppData\\Local\\Temp\\ipykernel_18600\\1203815797.py:4: LangChainDeprecationWarning: The class `TavilySearchResults` was deprecated in LangChain 0.3.25 and will be removed in 1.0. An updated version of the class exists in the :class:`~langchain-tavily package and should be used instead. To use it run `pip install -U :class:`~langchain-tavily` and import as `from :class:`~langchain_tavily import TavilySearch``.\n",
            "  tavily_tool = TavilySearchResults(max_results=5)\n"
          ]
        }
      ],
      "source": [
        "from langchain_community.tools.tavily_search import TavilySearchResults\n",
        "from langchain_community.tools.arxiv.tool import ArxivQueryRun\n",
        "\n",
        "tavily_tool = TavilySearchResults(max_results=5)\n",
        "\n",
        "tool_belt = [\n",
        "    tavily_tool,\n",
        "    ArxivQueryRun(),\n",
        "]"
      ]
    },
    {
      "cell_type": "markdown",
      "metadata": {
        "id": "VI-C669ZYVI5"
      },
      "source": [
        "### Model\n",
        "\n",
        "Now we can set-up our model! We'll leverage the familiar OpenAI model suite for this example - but it's not *necessary* to use with LangGraph. LangGraph supports all models - though you might not find success with smaller models - as such, they recommend you stick with:\n",
        "\n",
        "- OpenAI's GPT-3.5 and GPT-4\n",
        "- Anthropic's Claude\n",
        "- Google's Gemini\n",
        "\n",
        "> NOTE: Because we're leveraging the OpenAI function calling API - we'll need to use OpenAI *for this specific example* (or any other service that exposes an OpenAI-style function calling API."
      ]
    },
    {
      "cell_type": "code",
      "execution_count": 6,
      "metadata": {
        "id": "QkNS8rNZJs4z"
      },
      "outputs": [],
      "source": [
        "from langchain_openai import ChatOpenAI\n",
        "\n",
        "model = ChatOpenAI(model=\"gpt-4.1-nano\", temperature=0)"
      ]
    },
    {
      "cell_type": "markdown",
      "metadata": {
        "id": "Ugkj3GzuZpQv"
      },
      "source": [
        "Now that we have our model set-up, let's \"put on the tool belt\", which is to say: We'll bind our LangChain formatted tools to the model in an OpenAI function calling format."
      ]
    },
    {
      "cell_type": "code",
      "execution_count": 7,
      "metadata": {
        "id": "4OdMqFafZ_0V"
      },
      "outputs": [],
      "source": [
        "model = model.bind_tools(tool_belt)"
      ]
    },
    {
      "cell_type": "markdown",
      "metadata": {
        "id": "ERzuGo6W18Lr"
      },
      "source": [
        "<div style=\"background-color: #204B8E; color: white; padding: 10px; border-radius: 5px;\">\n",
        "\n",
        "#### ❓ Question #1:\n",
        "\n",
        "How does the model determine which tool to use?\n",
        "\n",
        "The model determines which tool to use through OpenAI's function calling API. When tools are bound to the model using model.bind_tools(tool_belt), the model can automatically analyze the user's query and decide which tool would be most appropriate to answer it\n",
        "</di>"
      ]
    },
    {
      "cell_type": "markdown",
      "metadata": {
        "id": "_296Ub96Z_H8"
      },
      "source": [
        "## Task 4: Putting the State in Stateful\n",
        "\n",
        "Earlier we used this phrasing:\n",
        "\n",
        "`coordinated multi-actor and stateful applications`\n",
        "\n",
        "So what does that \"stateful\" mean?\n",
        "\n",
        "To put it simply - we want to have some kind of object which we can pass around our application that holds information about what the current situation (state) is. Since our system will be constructed of many parts moving in a coordinated fashion - we want to be able to ensure we have some commonly understood idea of that state.\n",
        "\n",
        "LangGraph leverages a `StatefulGraph` which uses an `AgentState` object to pass information between the various nodes of the graph.\n",
        "\n",
        "There are more options than what we'll see below - but this `AgentState` object is one that is stored in a `TypedDict` with the key `messages` and the value is a `Sequence` of `BaseMessages` that will be appended to whenever the state changes.\n",
        "\n",
        "Let's think about a simple example to help understand exactly what this means (we'll simplify a great deal to try and clearly communicate what state is doing):\n",
        "\n",
        "1. We initialize our state object:\n",
        "  - `{\"messages\" : []}`\n",
        "2. Our user submits a query to our application.\n",
        "  - New State: `HumanMessage(#1)`\n",
        "  - `{\"messages\" : [HumanMessage(#1)}`\n",
        "3. We pass our state object to an Agent node which is able to read the current state. It will use the last `HumanMessage` as input. It gets some kind of output which it will add to the state.\n",
        "  - New State: `AgentMessage(#1, additional_kwargs {\"function_call\" : \"WebSearchTool\"})`\n",
        "  - `{\"messages\" : [HumanMessage(#1), AgentMessage(#1, ...)]}`\n",
        "4. We pass our state object to a \"conditional node\" (more on this later) which reads the last state to determine if we need to use a tool - which it can determine properly because of our provided object!"
      ]
    },
    {
      "cell_type": "code",
      "execution_count": 8,
      "metadata": {
        "id": "mxL9b_NZKUdL"
      },
      "outputs": [],
      "source": [
        "from typing import TypedDict, Annotated\n",
        "from langgraph.graph.message import add_messages\n",
        "import operator\n",
        "from langchain_core.messages import BaseMessage\n",
        "\n",
        "class AgentState(TypedDict):\n",
        "  messages: Annotated[list, add_messages]"
      ]
    },
    {
      "cell_type": "markdown",
      "metadata": {
        "id": "vWsMhfO9grLu"
      },
      "source": [
        "## Task 5: It's Graphing Time!\n",
        "\n",
        "Now that we have state, and we have tools, and we have an LLM - we can finally start making our graph!\n",
        "\n",
        "Let's take a second to refresh ourselves about what a graph is in this context.\n",
        "\n",
        "Graphs, also called networks in some circles, are a collection of connected objects.\n",
        "\n",
        "The objects in question are typically called nodes, or vertices, and the connections are called edges.\n",
        "\n",
        "Let's look at a simple graph.\n",
        "\n",
        "![image](https://i.imgur.com/2NFLnIc.png)\n",
        "\n",
        "Here, we're using the coloured circles to represent the nodes and the yellow lines to represent the edges. In this case, we're looking at a fully connected graph - where each node is connected by an edge to each other node.\n",
        "\n",
        "If we were to think about nodes in the context of LangGraph - we would think of a function, or an LCEL runnable.\n",
        "\n",
        "If we were to think about edges in the context of LangGraph - we might think of them as \"paths to take\" or \"where to pass our state object next\".\n",
        "\n",
        "Let's create some nodes and expand on our diagram.\n",
        "\n",
        "> NOTE: Due to the tight integration with LCEL - we can comfortably create our nodes in an async fashion!"
      ]
    },
    {
      "cell_type": "code",
      "execution_count": 9,
      "metadata": {
        "id": "91flJWtZLUrl"
      },
      "outputs": [],
      "source": [
        "from langgraph.prebuilt import ToolNode\n",
        "\n",
        "def call_model(state):\n",
        "  messages = state[\"messages\"]\n",
        "  response = model.invoke(messages)\n",
        "  return {\"messages\" : [response]}\n",
        "\n",
        "tool_node = ToolNode(tool_belt)"
      ]
    },
    {
      "cell_type": "markdown",
      "metadata": {
        "id": "2bwR7MgWj3Wg"
      },
      "source": [
        "Now we have two total nodes. We have:\n",
        "\n",
        "- `call_model` is a node that will...well...call the model\n",
        "- `tool_node` is a node which can call a tool\n",
        "\n",
        "Let's start adding nodes! We'll update our diagram along the way to keep track of what this looks like!\n"
      ]
    },
    {
      "cell_type": "code",
      "execution_count": 10,
      "metadata": {
        "colab": {
          "base_uri": "https://localhost:8080/"
        },
        "id": "_vF4_lgtmQNo",
        "outputId": "a4384377-8f7a-415f-be1b-fee6169cb101"
      },
      "outputs": [
        {
          "data": {
            "text/plain": [
              "<langgraph.graph.state.StateGraph at 0x27601e3d6a0>"
            ]
          },
          "execution_count": 10,
          "metadata": {},
          "output_type": "execute_result"
        }
      ],
      "source": [
        "from langgraph.graph import StateGraph, END\n",
        "\n",
        "uncompiled_graph = StateGraph(AgentState)\n",
        "\n",
        "uncompiled_graph.add_node(\"agent\", call_model)\n",
        "uncompiled_graph.add_node(\"action\", tool_node)"
      ]
    },
    {
      "cell_type": "markdown",
      "metadata": {
        "id": "b8CjRlbVmRpW"
      },
      "source": [
        "Let's look at what we have so far:\n",
        "\n",
        "![image](https://i.imgur.com/md7inqG.png)"
      ]
    },
    {
      "cell_type": "markdown",
      "metadata": {
        "id": "uaXHpPeSnOWC"
      },
      "source": [
        "Next, we'll add our entrypoint. All our entrypoint does is indicate which node is called first."
      ]
    },
    {
      "cell_type": "code",
      "execution_count": 11,
      "metadata": {
        "colab": {
          "base_uri": "https://localhost:8080/"
        },
        "id": "YGCbaYqRnmiw",
        "outputId": "5351807c-2ac7-4316-a3a3-878abeacd114"
      },
      "outputs": [
        {
          "data": {
            "text/plain": [
              "<langgraph.graph.state.StateGraph at 0x27601e3d6a0>"
            ]
          },
          "execution_count": 11,
          "metadata": {},
          "output_type": "execute_result"
        }
      ],
      "source": [
        "uncompiled_graph.set_entry_point(\"agent\")"
      ]
    },
    {
      "cell_type": "markdown",
      "metadata": {
        "id": "BUsfGoSpoF9U"
      },
      "source": [
        "![image](https://i.imgur.com/wNixpJe.png)"
      ]
    },
    {
      "cell_type": "markdown",
      "metadata": {
        "id": "0Q_pQgHmoW0M"
      },
      "source": [
        "Now we want to build a \"conditional edge\" which will use the output state of a node to determine which path to follow.\n",
        "\n",
        "We can help conceptualize this by thinking of our conditional edge as a conditional in a flowchart!\n",
        "\n",
        "Notice how our function simply checks if there is a \"function_call\" kwarg present.\n",
        "\n",
        "Then we create an edge where the origin node is our agent node and our destination node is *either* the action node or the END (finish the graph).\n",
        "\n",
        "It's important to highlight that the dictionary passed in as the third parameter (the mapping) should be created with the possible outputs of our conditional function in mind. In this case `should_continue` outputs either `\"end\"` or `\"continue\"` which are subsequently mapped to the action node or the END node."
      ]
    },
    {
      "cell_type": "code",
      "execution_count": 12,
      "metadata": {
        "colab": {
          "base_uri": "https://localhost:8080/"
        },
        "id": "1BZgb81VQf9o",
        "outputId": "73a07c15-5f0b-40f2-b033-38b57d056dd8"
      },
      "outputs": [
        {
          "data": {
            "text/plain": [
              "<langgraph.graph.state.StateGraph at 0x27601e3d6a0>"
            ]
          },
          "execution_count": 12,
          "metadata": {},
          "output_type": "execute_result"
        }
      ],
      "source": [
        "def should_continue(state):\n",
        "  last_message = state[\"messages\"][-1]\n",
        "\n",
        "  if last_message.tool_calls:\n",
        "    return \"action\"\n",
        "\n",
        "  return END\n",
        "\n",
        "uncompiled_graph.add_conditional_edges(\n",
        "    \"agent\",\n",
        "    should_continue\n",
        ")"
      ]
    },
    {
      "cell_type": "markdown",
      "metadata": {
        "id": "-Cvhcf4jp0Ce"
      },
      "source": [
        "Let's visualize what this looks like.\n",
        "\n",
        "![image](https://i.imgur.com/8ZNwKI5.png)"
      ]
    },
    {
      "cell_type": "markdown",
      "metadata": {
        "id": "yKCjWJCkrJb9"
      },
      "source": [
        "Finally, we can add our last edge which will connect our action node to our agent node. This is because we *always* want our action node (which is used to call our tools) to return its output to our agent!"
      ]
    },
    {
      "cell_type": "code",
      "execution_count": 13,
      "metadata": {
        "colab": {
          "base_uri": "https://localhost:8080/"
        },
        "id": "UvcgbHf1rIXZ",
        "outputId": "45d4bdd6-d6bb-4a1d-bb79-cad43c130bf2"
      },
      "outputs": [
        {
          "data": {
            "text/plain": [
              "<langgraph.graph.state.StateGraph at 0x27601e3d6a0>"
            ]
          },
          "execution_count": 13,
          "metadata": {},
          "output_type": "execute_result"
        }
      ],
      "source": [
        "uncompiled_graph.add_edge(\"action\", \"agent\")"
      ]
    },
    {
      "cell_type": "markdown",
      "metadata": {
        "id": "EiWDwBQtrw7Z"
      },
      "source": [
        "Let's look at the final visualization.\n",
        "\n",
        "![image](https://i.imgur.com/NWO7usO.png)"
      ]
    },
    {
      "cell_type": "markdown",
      "metadata": {
        "id": "KYqDpErlsCsu"
      },
      "source": [
        "All that's left to do now is to compile our workflow - and we're off!"
      ]
    },
    {
      "cell_type": "code",
      "execution_count": 14,
      "metadata": {
        "id": "zt9-KS8DpzNx"
      },
      "outputs": [],
      "source": [
        "simple_agent_graph = uncompiled_graph.compile()"
      ]
    },
    {
      "cell_type": "markdown",
      "metadata": {
        "id": "xhNWIwBL1W4Q"
      },
      "source": [
        "<div style=\"background-color: #204B8E; color: white; padding: 10px; border-radius: 5px;\">\n",
        "\n",
        "#### ❓ Question #2:\n",
        "\n",
        "Is there any specific limit to how many times we can cycle?\n",
        "- No, there is no built-in limit to how many times we can cycle in LangGraph. The basic graph implementation allows unlimited cycling between nodes, which could potentially lead to infinite loops if not properly controlled.\n",
        "\n",
        "If not, how could we impose a limit to the number of cycles?\n",
        "- To impose a limit, we can add a cycle counter in the conditional edge function. In the notebook, this is demonstrated in the tool_call_or_helpful function where they check if len(state[\"messages\"]) > 10: return \"END\".\n",
        "\n",
        "</div>"
      ]
    },
    {
      "cell_type": "markdown",
      "metadata": {
        "id": "VEYcTShCsPaa"
      },
      "source": [
        "## Using Our Graph\n",
        "\n",
        "Now that we've created and compiled our graph - we can call it *just as we'd call any other* `Runnable`!\n",
        "\n",
        "Let's try out a few examples to see how it fairs:"
      ]
    },
    {
      "cell_type": "code",
      "execution_count": 17,
      "metadata": {
        "colab": {
          "base_uri": "https://localhost:8080/"
        },
        "id": "Qn4n37PQRPII",
        "outputId": "5eeedfae-089d-496e-e71f-071939fa5832"
      },
      "outputs": [
        {
          "name": "stdout",
          "output_type": "stream",
          "text": [
            "Receiving update from node: 'agent'\n",
            "[AIMessage(content='', additional_kwargs={'tool_calls': [{'id': 'call_eRIhPeMdw5aMJ5SMvAXaJaRX', 'function': {'arguments': '{\"query\":\"current captain of the Winnipeg Jets\"}', 'name': 'tavily_search_results_json'}, 'type': 'function'}], 'refusal': None}, response_metadata={'token_usage': {'completion_tokens': 23, 'prompt_tokens': 162, 'total_tokens': 185, 'completion_tokens_details': {'accepted_prediction_tokens': 0, 'audio_tokens': 0, 'reasoning_tokens': 0, 'rejected_prediction_tokens': 0}, 'prompt_tokens_details': {'audio_tokens': 0, 'cached_tokens': 0}}, 'model_name': 'gpt-4.1-nano-2025-04-14', 'system_fingerprint': 'fp_c4c155951e', 'id': 'chatcmpl-C4okDyFNsg6eOwVKn4O7z6MP7laH3', 'service_tier': 'default', 'finish_reason': 'tool_calls', 'logprobs': None}, id='run--c5fe7705-0428-40ac-92eb-9f126b929ea2-0', tool_calls=[{'name': 'tavily_search_results_json', 'args': {'query': 'current captain of the Winnipeg Jets'}, 'id': 'call_eRIhPeMdw5aMJ5SMvAXaJaRX', 'type': 'tool_call'}], usage_metadata={'input_tokens': 162, 'output_tokens': 23, 'total_tokens': 185, 'input_token_details': {'audio': 0, 'cache_read': 0}, 'output_token_details': {'audio': 0, 'reasoning': 0}})]\n",
            "\n",
            "\n",
            "\n",
            "Receiving update from node: 'action'\n",
            "[ToolMessage(content='[{\"title\": \"Winnipeg Jets - Wikipedia\", \"url\": \"https://en.wikipedia.org/wiki/Winnipeg_Jets\", \"content\": \"|  v  t  e  Winnipeg Jets | |\\\\n| --- | --- |\\\\n|  Formerly the Atlanta Thrashers  Founded in 1999  Based in Winnipeg, Manitoba | |\\\\n| Franchise |  Team  General managers  Coaches  Players  Captains  Draft picks   + expansion draft  Seasons  Current season |\\\\n| History |  Records  Award winners  Broadcasters |\\\\n| Personnel | Owner(s)  True North Sports & Entertainment (Mark Chipman, chairman)  General manager  Kevin Cheveldayoff  Head coach  Scott Arniel  Team captain  Adam Lowry  Current roster | [...] the draft lottery, which they used to select Finnish prospect Patrik Laine. Later that summer, the team appointed Blake Wheeler as their new captain. [...] In the 2021–22 season, the Jets finished a disappointing sixth in the Central Division, missing the playoffs. At the start of the 2022–23 season, forward Blake Wheeler was stripped of the team captaincy. The Jets then clinched the 2023 playoffs at the end of the regular season, but were defeated by the eventual Stanley Cup champion Vegas Golden Knights in five games in the first round. Before the start of the 2023–24 season, forward Adam Lowry was appointed team captain. The Jets then clinched\", \"score\": 0.885404}, {\"title\": \"Adam Lowry named Jets captain | Winnipeg Jets - NHL.com\", \"url\": \"https://www.nhl.com/jets/news/adam-lowry-named-jets-captain\", \"content\": \"That honour was given to Winnipeg Jet forward Adam Lowry officially Tuesday morning as he becomes the third captain in franchise history since the team moved here from Atlanta. He follows Andrew Ladd and Blake Wheeler who served as captain for five and six years respectively.\\\\n\\\\nâ\\x80\\x9cWhen I found out, I was pretty excited, almost a little speechless. Itâ\\x80\\x99s something growing up you kind of can dream about and something that seems almost unattainable,â\\x80\\x9d said Lowry. [...] â\\x80\\x9cHeâ\\x80\\x99s a true professional, he has total respect from every player on the team, every player around the league and certainly from the coaching staff as well. We just feel at this point itâ\\x80\\x99s the right time to name Adam as our captain.â\\x80\\x9d [...] â\\x80\\x9cGetting to be a captain of a Canadian NHL team is pretty special and something Iâ\\x80\\x99m really looking forward too.â\\x80\\x9d\", \"score\": 0.8449346}, {\"title\": \"Jets sign Toews for leadership, add Nyquist, Pearson for depth\", \"url\": \"https://www.nhl.com/news/winnipeg-jets-roster-changes-for-2025-26-season\", \"content\": \"games for the Vegas Golden Knights. Pearson could find a role in Winnipeg\\'s middle six. The need there will be magnified. Jets captain and center Adam Lowry is expected to miss the start of the season after having hip surgery May 27, with a 5-6 month timeline for recovery. [...] Nikolaj Ehlers, F: The 29-year-old signed a six-year contract with the Carolina Hurricanes on July 3 after he had 63 points (24 goals, 39 assists) in 69 games last season and seven points (five goals, two assists) in eight Stanley Cup Playoff games. Ehlers had 520 points (225 goals, 295 assists) in 674 games through 10 seasons with the Jets. â\\x80¦ Mason Appleton, F: The 29-year-old signed a two-year contract with the Detroit Red Wings on July 2. He had 22 points (10 goals, 12 assists) in 71 games [...] ## EDGE stat to watch\\\\n\\\\nThe Jets ranked highly in high-danger goals (144; third) and long-range goals (29; first) last season. Winnipeg had players rank among the NHL leaders in goals from each major shot location region: Center Mark Scheifele was tied for fourth in the NHL in high-danger goals (24), forward Kyle Connor tied for fourth in midrange goals (17) and defensemen Neal Pionk and Josh Morrissey tied for fourth in long-range goals (six each). -- Troy Perlowitz\", \"score\": 0.78014404}, {\"title\": \"Team Captains of Winnipeg Jets - Elite Prospects\", \"url\": \"https://www.eliteprospects.com/team/9966/winnipeg-jets/captaincy-history\", \"content\": \"| Season | League | “C” Captain(s) | “A” Alternate Captain(s) |\\\\n| --- | --- | --- | --- |\\\\n| 2025-2026  2025-26 | NHL | Adam Lowry |  |\\\\n| 2024-2025  2024-25 | NHL | Adam Lowry | Josh Morrissey  Neal Pionk  Mark Scheifele |\\\\n| 2023-2024  2023-24 | NHL | Adam Lowry | Josh Morrissey  Mark Scheifele |\\\\n| 2022-2023  2022-23 | NHL |  | Adam Lowry  Josh Morrissey  Mark Scheifele |\\\\n| 2021-2022  2021-22 | NHL | Blake Wheeler | Josh Morrissey  Mark Scheifele | [...] | 2020-2021  2020-21 | NHL | Blake Wheeler | Josh Morrissey  Mark Scheifele |\\\\n| 2019-2020  2019-20 | NHL | Blake Wheeler | Mark Scheifele  Bryan Little  Josh Morrissey |\\\\n| 2018-2019  2018-19 | NHL | Blake Wheeler | Mark Scheifele  Bryan Little  Dustin Byfuglien |\\\\n| 2017-2018  2017-18 | NHL | Blake Wheeler | Dustin Byfuglien  Bryan Little  Mark Scheifele |\\\\n| 2016-2017  2016-17 | NHL | Blake Wheeler | Dustin Byfuglien  Mark Scheifele | [...] | 2015-2016  2015-16 | NHL | Andrew Ladd | Mark Stuart  Blake Wheeler |\\\\n| 2014-2015  2014-15 | NHL | Andrew Ladd | Mark Stuart  Blake Wheeler |\\\\n| 2013-2014  2013-14 | NHL | Andrew Ladd | Dustin Byfuglien  Olli Jokinen  Mark Stuart |\\\\n| 2012-2013  2012-13 | NHL | Andrew Ladd | Dustin Byfuglien  Mark Stuart  Olli Jokinen |\\\\n| 2011-2012  2011-12 | NHL | Andrew Ladd | Dustin Byfuglien  Tobias Enström |\", \"score\": 0.7663815}, {\"title\": \"List of NHL captains\", \"url\": \"https://www.nhl.com/news/nhl-list-of-captains-335526652\", \"content\": \"Utah Mammoth -- Clayton Keller  \\\\nVancouver Canucks -- Quinn Hughes  \\\\nVegas Golden Knights -- Mark Stone  \\\\nWashington Capitals -- Alex Ovechkin  \\\\nWinnipeg Jets -- Adam Lowry [...] Montreal Canadiens -- Nick Suzuki  \\\\nNashville Predators -- Roman Josi  \\\\nNew Jersey Devils -- Nico Hischier  \\\\nNew York Islanders -- Anders Lee  \\\\nNew York Rangers - Vacant  \\\\nOttawa Senators -- Brady Tkachuk  \\\\nPhiladelphia Flyers -- Sean Couturier  \\\\nPittsburgh Penguins -- Sidney Crosby  \\\\nSan Jose Sharks -- Logan Couture  \\\\nSeattle Kraken -- Jordan Eberle  \\\\nSt. Louis Blues -- Brayden Schenn  \\\\nTampa Bay Lightning -- Victor Hedman  \\\\nToronto Maple Leafs -- Auston Matthews [...] Anaheim Ducks -- Radko Gudas  \\\\nBoston Bruins -- Vacant  \\\\nBuffalo Sabres -- Rasmus Dahlin  \\\\nCalgary Flames -- Mikael Backlund  \\\\nCarolina Hurricanes -- Jordan Staal  \\\\nChicago Blackhawks -- Nick Foligno  \\\\nColorado Avalanche -- Gabriel Landeskog  \\\\nColumbus Blue Jackets -- Boone Jenner  \\\\nDallas Stars -- Jamie Benn  \\\\nDetroit Red Wings -- Dylan Larkin  \\\\nEdmonton Oilers -- Connor McDavid  \\\\nFlorida Panthers -- Aleksander Barkov  \\\\nLos Angeles Kings -- Anze Kopitar  \\\\nMinnesota Wild -- Jared Spurgeon\", \"score\": 0.6729558}]', name='tavily_search_results_json', id='f02e1e8f-079a-4b05-9852-1db5f5982de2', tool_call_id='call_eRIhPeMdw5aMJ5SMvAXaJaRX', artifact={'query': 'current captain of the Winnipeg Jets', 'follow_up_questions': None, 'answer': None, 'images': [], 'results': [{'url': 'https://en.wikipedia.org/wiki/Winnipeg_Jets', 'title': 'Winnipeg Jets - Wikipedia', 'content': '|  v  t  e  Winnipeg Jets | |\\n| --- | --- |\\n|  Formerly the Atlanta Thrashers  Founded in 1999  Based in Winnipeg, Manitoba | |\\n| Franchise |  Team  General managers  Coaches  Players  Captains  Draft picks   + expansion draft  Seasons  Current season |\\n| History |  Records  Award winners  Broadcasters |\\n| Personnel | Owner(s)  True North Sports & Entertainment (Mark Chipman, chairman)  General manager  Kevin Cheveldayoff  Head coach  Scott Arniel  Team captain  Adam Lowry  Current roster | [...] the draft lottery, which they used to select Finnish prospect Patrik Laine. Later that summer, the team appointed Blake Wheeler as their new captain. [...] In the 2021–22 season, the Jets finished a disappointing sixth in the Central Division, missing the playoffs. At the start of the 2022–23 season, forward Blake Wheeler was stripped of the team captaincy. The Jets then clinched the 2023 playoffs at the end of the regular season, but were defeated by the eventual Stanley Cup champion Vegas Golden Knights in five games in the first round. Before the start of the 2023–24 season, forward Adam Lowry was appointed team captain. The Jets then clinched', 'score': 0.885404, 'raw_content': None}, {'url': 'https://www.nhl.com/jets/news/adam-lowry-named-jets-captain', 'title': 'Adam Lowry named Jets captain | Winnipeg Jets - NHL.com', 'content': 'That honour was given to Winnipeg Jet forward Adam Lowry officially Tuesday morning as he becomes the third captain in franchise history since the team moved here from Atlanta. He follows Andrew Ladd and Blake Wheeler who served as captain for five and six years respectively.\\n\\nâ\\x80\\x9cWhen I found out, I was pretty excited, almost a little speechless. Itâ\\x80\\x99s something growing up you kind of can dream about and something that seems almost unattainable,â\\x80\\x9d said Lowry. [...] â\\x80\\x9cHeâ\\x80\\x99s a true professional, he has total respect from every player on the team, every player around the league and certainly from the coaching staff as well. We just feel at this point itâ\\x80\\x99s the right time to name Adam as our captain.â\\x80\\x9d [...] â\\x80\\x9cGetting to be a captain of a Canadian NHL team is pretty special and something Iâ\\x80\\x99m really looking forward too.â\\x80\\x9d', 'score': 0.8449346, 'raw_content': None}, {'url': 'https://www.nhl.com/news/winnipeg-jets-roster-changes-for-2025-26-season', 'title': 'Jets sign Toews for leadership, add Nyquist, Pearson for depth', 'content': \"games for the Vegas Golden Knights. Pearson could find a role in Winnipeg's middle six. The need there will be magnified. Jets captain and center Adam Lowry is expected to miss the start of the season after having hip surgery May 27, with a 5-6 month timeline for recovery. [...] Nikolaj Ehlers, F: The 29-year-old signed a six-year contract with the Carolina Hurricanes on July 3 after he had 63 points (24 goals, 39 assists) in 69 games last season and seven points (five goals, two assists) in eight Stanley Cup Playoff games. Ehlers had 520 points (225 goals, 295 assists) in 674 games through 10 seasons with the Jets. â\\x80¦ Mason Appleton, F: The 29-year-old signed a two-year contract with the Detroit Red Wings on July 2. He had 22 points (10 goals, 12 assists) in 71 games [...] ## EDGE stat to watch\\n\\nThe Jets ranked highly in high-danger goals (144; third) and long-range goals (29; first) last season. Winnipeg had players rank among the NHL leaders in goals from each major shot location region: Center Mark Scheifele was tied for fourth in the NHL in high-danger goals (24), forward Kyle Connor tied for fourth in midrange goals (17) and defensemen Neal Pionk and Josh Morrissey tied for fourth in long-range goals (six each). -- Troy Perlowitz\", 'score': 0.78014404, 'raw_content': None}, {'url': 'https://www.eliteprospects.com/team/9966/winnipeg-jets/captaincy-history', 'title': 'Team Captains of Winnipeg Jets - Elite Prospects', 'content': '| Season | League | “C” Captain(s) | “A” Alternate Captain(s) |\\n| --- | --- | --- | --- |\\n| 2025-2026  2025-26 | NHL | Adam Lowry |  |\\n| 2024-2025  2024-25 | NHL | Adam Lowry | Josh Morrissey  Neal Pionk  Mark Scheifele |\\n| 2023-2024  2023-24 | NHL | Adam Lowry | Josh Morrissey  Mark Scheifele |\\n| 2022-2023  2022-23 | NHL |  | Adam Lowry  Josh Morrissey  Mark Scheifele |\\n| 2021-2022  2021-22 | NHL | Blake Wheeler | Josh Morrissey  Mark Scheifele | [...] | 2020-2021  2020-21 | NHL | Blake Wheeler | Josh Morrissey  Mark Scheifele |\\n| 2019-2020  2019-20 | NHL | Blake Wheeler | Mark Scheifele  Bryan Little  Josh Morrissey |\\n| 2018-2019  2018-19 | NHL | Blake Wheeler | Mark Scheifele  Bryan Little  Dustin Byfuglien |\\n| 2017-2018  2017-18 | NHL | Blake Wheeler | Dustin Byfuglien  Bryan Little  Mark Scheifele |\\n| 2016-2017  2016-17 | NHL | Blake Wheeler | Dustin Byfuglien  Mark Scheifele | [...] | 2015-2016  2015-16 | NHL | Andrew Ladd | Mark Stuart  Blake Wheeler |\\n| 2014-2015  2014-15 | NHL | Andrew Ladd | Mark Stuart  Blake Wheeler |\\n| 2013-2014  2013-14 | NHL | Andrew Ladd | Dustin Byfuglien  Olli Jokinen  Mark Stuart |\\n| 2012-2013  2012-13 | NHL | Andrew Ladd | Dustin Byfuglien  Mark Stuart  Olli Jokinen |\\n| 2011-2012  2011-12 | NHL | Andrew Ladd | Dustin Byfuglien  Tobias Enström |', 'score': 0.7663815, 'raw_content': None}, {'url': 'https://www.nhl.com/news/nhl-list-of-captains-335526652', 'title': 'List of NHL captains', 'content': 'Utah Mammoth -- Clayton Keller  \\nVancouver Canucks -- Quinn Hughes  \\nVegas Golden Knights -- Mark Stone  \\nWashington Capitals -- Alex Ovechkin  \\nWinnipeg Jets -- Adam Lowry [...] Montreal Canadiens -- Nick Suzuki  \\nNashville Predators -- Roman Josi  \\nNew Jersey Devils -- Nico Hischier  \\nNew York Islanders -- Anders Lee  \\nNew York Rangers - Vacant  \\nOttawa Senators -- Brady Tkachuk  \\nPhiladelphia Flyers -- Sean Couturier  \\nPittsburgh Penguins -- Sidney Crosby  \\nSan Jose Sharks -- Logan Couture  \\nSeattle Kraken -- Jordan Eberle  \\nSt. Louis Blues -- Brayden Schenn  \\nTampa Bay Lightning -- Victor Hedman  \\nToronto Maple Leafs -- Auston Matthews [...] Anaheim Ducks -- Radko Gudas  \\nBoston Bruins -- Vacant  \\nBuffalo Sabres -- Rasmus Dahlin  \\nCalgary Flames -- Mikael Backlund  \\nCarolina Hurricanes -- Jordan Staal  \\nChicago Blackhawks -- Nick Foligno  \\nColorado Avalanche -- Gabriel Landeskog  \\nColumbus Blue Jackets -- Boone Jenner  \\nDallas Stars -- Jamie Benn  \\nDetroit Red Wings -- Dylan Larkin  \\nEdmonton Oilers -- Connor McDavid  \\nFlorida Panthers -- Aleksander Barkov  \\nLos Angeles Kings -- Anze Kopitar  \\nMinnesota Wild -- Jared Spurgeon', 'score': 0.6729558, 'raw_content': None}], 'response_time': 3.66, 'request_id': 'eb2138cd-0edb-4892-b8fa-b77200bac51a'})]\n",
            "\n",
            "\n",
            "\n",
            "Receiving update from node: 'agent'\n",
            "[AIMessage(content='The current captain of the Winnipeg Jets is Adam Lowry.', additional_kwargs={'refusal': None}, response_metadata={'token_usage': {'completion_tokens': 13, 'prompt_tokens': 2060, 'total_tokens': 2073, 'completion_tokens_details': {'accepted_prediction_tokens': 0, 'audio_tokens': 0, 'reasoning_tokens': 0, 'rejected_prediction_tokens': 0}, 'prompt_tokens_details': {'audio_tokens': 0, 'cached_tokens': 0}}, 'model_name': 'gpt-4.1-nano-2025-04-14', 'system_fingerprint': 'fp_c4c155951e', 'id': 'chatcmpl-C4okIEyNHFWKoX88FbUEKaq4iEE2D', 'service_tier': 'default', 'finish_reason': 'stop', 'logprobs': None}, id='run--546e6452-8d89-463d-862f-1ba638045a18-0', usage_metadata={'input_tokens': 2060, 'output_tokens': 13, 'total_tokens': 2073, 'input_token_details': {'audio': 0, 'cache_read': 0}, 'output_token_details': {'audio': 0, 'reasoning': 0}})]\n",
            "\n",
            "\n",
            "\n"
          ]
        }
      ],
      "source": [
        "from langchain_core.messages import HumanMessage\n",
        "\n",
        "inputs = {\"messages\" : [HumanMessage(content=\"Who is the current captain of the Winnipeg Jets?\")]}\n",
        "\n",
        "async for chunk in simple_agent_graph.astream(inputs, stream_mode=\"updates\"):\n",
        "    for node, values in chunk.items():\n",
        "        print(f\"Receiving update from node: '{node}'\")\n",
        "        print(values[\"messages\"])\n",
        "        print(\"\\n\\n\")"
      ]
    },
    {
      "cell_type": "markdown",
      "metadata": {
        "id": "DBHnUtLSscRr"
      },
      "source": [
        "Let's look at what happened:\n",
        "\n",
        "1. Our state object was populated with our request\n",
        "2. The state object was passed into our entry point (agent node) and the agent node added an `AIMessage` to the state object and passed it along the conditional edge\n",
        "3. The conditional edge received the state object, found the \"tool_calls\" `additional_kwarg`, and sent the state object to the action node\n",
        "4. The action node added the response from the OpenAI function calling endpoint to the state object and passed it along the edge to the agent node\n",
        "5. The agent node added a response to the state object and passed it along the conditional edge\n",
        "6. The conditional edge received the state object, could not find the \"tool_calls\" `additional_kwarg` and passed the state object to END where we see it output in the cell above!\n",
        "\n",
        "Now let's look at an example that shows a multiple tool usage - all with the same flow!"
      ]
    },
    {
      "cell_type": "code",
      "execution_count": 18,
      "metadata": {
        "colab": {
          "base_uri": "https://localhost:8080/"
        },
        "id": "afv2BuEsV5JG",
        "outputId": "ff009536-d281-4a56-c126-9cd245352bfe"
      },
      "outputs": [
        {
          "name": "stdout",
          "output_type": "stream",
          "text": [
            "Receiving update from node: 'agent'\n",
            "[AIMessage(content='', additional_kwargs={'tool_calls': [{'id': 'call_MVr1CNvtBAYTgKpvuFaFrE6Y', 'function': {'arguments': '{\"query\": \"QLoRA\"}', 'name': 'arxiv'}, 'type': 'function'}, {'id': 'call_HRqhVAo7muSn54KevB0On2vo', 'function': {'arguments': '{\"query\": \"latest Tweet of author\"}', 'name': 'tavily_search_results_json'}, 'type': 'function'}], 'refusal': None}, response_metadata={'token_usage': {'completion_tokens': 54, 'prompt_tokens': 178, 'total_tokens': 232, 'completion_tokens_details': {'accepted_prediction_tokens': 0, 'audio_tokens': 0, 'reasoning_tokens': 0, 'rejected_prediction_tokens': 0}, 'prompt_tokens_details': {'audio_tokens': 0, 'cached_tokens': 0}}, 'model_name': 'gpt-4.1-nano-2025-04-14', 'system_fingerprint': 'fp_c4c155951e', 'id': 'chatcmpl-C4okJAlEiOzoYRj1ryuPj84OQkOPx', 'service_tier': 'default', 'finish_reason': 'tool_calls', 'logprobs': None}, id='run--e08174ba-0a07-49ea-8c0b-34e07b23b40f-0', tool_calls=[{'name': 'arxiv', 'args': {'query': 'QLoRA'}, 'id': 'call_MVr1CNvtBAYTgKpvuFaFrE6Y', 'type': 'tool_call'}, {'name': 'tavily_search_results_json', 'args': {'query': 'latest Tweet of author'}, 'id': 'call_HRqhVAo7muSn54KevB0On2vo', 'type': 'tool_call'}], usage_metadata={'input_tokens': 178, 'output_tokens': 54, 'total_tokens': 232, 'input_token_details': {'audio': 0, 'cache_read': 0}, 'output_token_details': {'audio': 0, 'reasoning': 0}})]\n",
            "\n",
            "\n",
            "\n",
            "Receiving update from node: 'action'\n",
            "Tool Used: arxiv\n",
            "[ToolMessage(content='Published: 2023-05-23\\nTitle: QLoRA: Efficient Finetuning of Quantized LLMs\\nAuthors: Tim Dettmers, Artidoro Pagnoni, Ari Holtzman, Luke Zettlemoyer\\nSummary: We present QLoRA, an efficient finetuning approach that reduces memory usage\\nenough to finetune a 65B parameter model on a single 48GB GPU while preserving\\nfull 16-bit finetuning task performance. QLoRA backpropagates gradients through\\na frozen, 4-bit quantized pretrained language model into Low Rank\\nAdapters~(LoRA). Our best model family, which we name Guanaco, outperforms all\\nprevious openly released models on the Vicuna benchmark, reaching 99.3% of the\\nperformance level of ChatGPT while only requiring 24 hours of finetuning on a\\nsingle GPU. QLoRA introduces a number of innovations to save memory without\\nsacrificing performance: (a) 4-bit NormalFloat (NF4), a new data type that is\\ninformation theoretically optimal for normally distributed weights (b) double\\nquantization to reduce the average memory footprint by quantizing the\\nquantization constants, and (c) paged optimziers to manage memory spikes. We\\nuse QLoRA to finetune more than 1,000 models, providing a detailed analysis of\\ninstruction following and chatbot performance across 8 instruction datasets,\\nmultiple model types (LLaMA, T5), and model scales that would be infeasible to\\nrun with regular finetuning (e.g. 33B and 65B parameter models). Our results\\nshow that QLoRA finetuning on a small high-quality dataset leads to\\nstate-of-the-art results, even when using smaller models than the previous\\nSoTA. We provide a detailed analysis of chatbot performance based on both human\\nand GPT-4 evaluations showing that GPT-4 evaluations are a cheap and reasonable\\nalternative to human evaluation. Furthermore, we find that current chatbot\\nbenchmarks are not trustworthy to accurately evaluate the performance levels of\\nchatbots. A lemon-picked analysis demonstrates where Guanaco fails compared to\\nChatGPT. We release all of our models and code, including CUDA kernels for\\n4-bit training.\\n\\nPublished: 2024-05-27\\nTitle: Accurate LoRA-Finetuning Quantization of LLMs via Information Retention\\nAuthors: Haotong Qin, Xudong Ma, Xingyu Zheng, Xiaoyang Li, Yang Zhang, Shouda Liu, Jie Luo, Xianglong Liu, Michele Magno\\nSummary: The LoRA-finetuning quantization of LLMs has been extensively studied to\\nobtain accurate yet compact LLMs for deployment on resource-constrained\\nhardware. However, existing methods cause the quantized LLM to severely degrade\\nand even fail to benefit from the finetuning of LoRA. This paper proposes a\\nnovel IR-QLoRA for pushing quantized LLMs with LoRA to be highly accurate\\nthrough information retention. The proposed IR-QLoRA mainly relies on two\\ntechnologies derived from the perspective of unified information: (1)\\nstatistics-based Information Calibration Quantization allows the quantized\\nparameters of LLM to retain original information accurately; (2)\\nfinetuning-based Information Elastic Connection makes LoRA utilizes elastic\\nrepresentation transformation with diverse information. Comprehensive\\nexperiments show that IR-QLoRA can significantly improve accuracy across LLaMA\\nand LLaMA2 families under 2-4 bit-widths, e.g., 4- bit LLaMA-7B achieves 1.4%\\nimprovement on MMLU compared with the state-of-the-art methods. The significant\\nperformance gain requires only a tiny 0.31% additional time consumption,\\nrevealing the satisfactory efficiency of our IR-QLoRA. We highlight that\\nIR-QLoRA enjoys excellent versatility, compatible with various frameworks\\n(e.g., NormalFloat and Integer quantization) and brings general accuracy gains.\\nThe code is available at https://github.com/htqin/ir-qlora.\\n\\nPublished: 2025-02-05\\nTitle: Resource-Efficient & Effective Code Summarization\\nAuthors: Saima Afrin, Joseph Call, Khai-Nguyen Nguyen, Oscar Chaparro, Antonio Mastropaolo\\nSummary: Code Language Models (CLMs) have demonstrated high effectiveness in\\nautomating software engineering tasks such as bug fixing, code generation, and\\ncode documentation. This ', name='arxiv', id='350bb79a-d051-4c20-86b3-d10838f0e488', tool_call_id='call_MVr1CNvtBAYTgKpvuFaFrE6Y'), ToolMessage(content='[{\"title\": \"11 Twitter accounts to make you a better writer - No-nonsense words\", \"url\": \"https://forthwrite.substack.com/p/11-twitter-accounts-that-will-make\", \"content\": \"#### 2. Susan Orlean | @SusanOrlean\\\\n\\\\nThe veteran New Yorker writer and queen of creative nonfiction, my favourite Susan Orlean is The Library Book, an unashamed love letter to the Los Angeles Public Library. Orlean’s love of words, books and indeed libraries lights up Twitter, where she dispenses all sorts of insights for her followers and would-be authors. This week’s musings has seen Orlean searching for a new word: [...] #### 11. Elle Griffin | @novelleist [...] #### 9. Robert Macfarlane | @RobGMacfarlane\", \"score\": 0.42605945}, {\"title\": \"Author to Author (@author2authors) / X\", \"url\": \"https://twitter.com/author2authors\", \"content\": \"Account for #author community benefit. Tweet about authors New Release. #readers and #author join #a2a to support author\\'s #BookRelease\", \"score\": 0.3895703}, {\"title\": \"J.K. Rowling (@jk_rowling) / X\", \"url\": \"https://x.com/jk_rowling?lang=en\", \"content\": \"\\'We\\'ve lost all sense of rationality in [the gender] debate,\\' said Nicola Sturgeon. Only one side has lost rationality. Only one side pretends there\\'s more than\", \"score\": 0.38151965}, {\"title\": \"Natalie Wright, Author (@NatalieWright_) / X\", \"url\": \"https://twitter.com/NatalieWright_\", \"content\": \"Jul 9, 2023. The latest episode of The Worldshapers #podcast features. @NatalieWright_. , author of the new fantasy novel SEASON OF THE DRAGON, as well as the\", \"score\": 0.23403922}, {\"title\": \"20 Talented Authors to Follow on Twitter - Publish Drive\", \"url\": \"https://publishdrive.com/authors-to-follow-on-twitter.html\", \"content\": \"Discover a list of authors to follow on Twitter and get inspired by their ways of engaging with their readers.\", \"score\": 0.19187255}]', name='tavily_search_results_json', id='05a724b9-67d4-4f32-95a9-fbc950a02386', tool_call_id='call_HRqhVAo7muSn54KevB0On2vo', artifact={'query': 'latest Tweet of author', 'follow_up_questions': None, 'answer': None, 'images': [], 'results': [{'url': 'https://forthwrite.substack.com/p/11-twitter-accounts-that-will-make', 'title': '11 Twitter accounts to make you a better writer - No-nonsense words', 'content': '#### 2. Susan Orlean | @SusanOrlean\\n\\nThe veteran New Yorker writer and queen of creative nonfiction, my favourite Susan Orlean is The Library Book, an unashamed love letter to the Los Angeles Public Library. Orlean’s love of words, books and indeed libraries lights up Twitter, where she dispenses all sorts of insights for her followers and would-be authors. This week’s musings has seen Orlean searching for a new word: [...] #### 11. Elle Griffin | @novelleist [...] #### 9. Robert Macfarlane | @RobGMacfarlane', 'score': 0.42605945, 'raw_content': None}, {'url': 'https://twitter.com/author2authors', 'title': 'Author to Author (@author2authors) / X', 'content': \"Account for #author community benefit. Tweet about authors New Release. #readers and #author join #a2a to support author's #BookRelease\", 'score': 0.3895703, 'raw_content': None}, {'url': 'https://x.com/jk_rowling?lang=en', 'title': 'J.K. Rowling (@jk_rowling) / X', 'content': \"'We've lost all sense of rationality in [the gender] debate,' said Nicola Sturgeon. Only one side has lost rationality. Only one side pretends there's more than\", 'score': 0.38151965, 'raw_content': None}, {'url': 'https://twitter.com/NatalieWright_', 'title': 'Natalie Wright, Author (@NatalieWright_) / X', 'content': 'Jul 9, 2023. The latest episode of The Worldshapers #podcast features. @NatalieWright_. , author of the new fantasy novel SEASON OF THE DRAGON, as well as the', 'score': 0.23403922, 'raw_content': None}, {'url': 'https://publishdrive.com/authors-to-follow-on-twitter.html', 'title': '20 Talented Authors to Follow on Twitter - Publish Drive', 'content': 'Discover a list of authors to follow on Twitter and get inspired by their ways of engaging with their readers.', 'score': 0.19187255, 'raw_content': None}], 'response_time': 2.28, 'request_id': '03fb80be-ff63-4e8b-a243-fb2d287af90c'})]\n",
            "\n",
            "\n",
            "\n",
            "Receiving update from node: 'agent'\n",
            "[AIMessage(content='I found the QLoRA paper on Arxiv, titled \"QLoRA: Efficient Finetuning of Quantized LLMs,\" authored by Tim Dettmers, Artidoro Pagnoni, Ari Holtzman, and Luke Zettlemoyer. \\n\\nRegarding the latest Tweets from these authors:\\n- Tim Dettmers\\'s latest Tweet is not directly available from the search results.\\n- Artidoro Pagnoni\\'s latest Tweet is not directly available from the search results.\\n- Ari Holtzman\\'s latest Tweet is not directly available from the search results.\\n- Luke Zettlemoyer\\'s latest Tweet is not directly available from the search results.\\n\\nWould you like me to perform a more specific search for each author\\'s latest Tweet?', additional_kwargs={'refusal': None}, response_metadata={'token_usage': {'completion_tokens': 150, 'prompt_tokens': 1701, 'total_tokens': 1851, 'completion_tokens_details': {'accepted_prediction_tokens': 0, 'audio_tokens': 0, 'reasoning_tokens': 0, 'rejected_prediction_tokens': 0}, 'prompt_tokens_details': {'audio_tokens': 0, 'cached_tokens': 0}}, 'model_name': 'gpt-4.1-nano-2025-04-14', 'system_fingerprint': 'fp_c4c155951e', 'id': 'chatcmpl-C4okNEsTnynIfe5rb0Tgsi4REp1cq', 'service_tier': 'default', 'finish_reason': 'stop', 'logprobs': None}, id='run--f1377729-5280-4617-bddb-4dd69fa88c43-0', usage_metadata={'input_tokens': 1701, 'output_tokens': 150, 'total_tokens': 1851, 'input_token_details': {'audio': 0, 'cache_read': 0}, 'output_token_details': {'audio': 0, 'reasoning': 0}})]\n",
            "\n",
            "\n",
            "\n"
          ]
        }
      ],
      "source": [
        "inputs = {\"messages\" : [HumanMessage(content=\"Search Arxiv for the QLoRA paper, then search each of the authors to find out their latest Tweet using Tavily!\")]}\n",
        "\n",
        "async for chunk in simple_agent_graph.astream(inputs, stream_mode=\"updates\"):\n",
        "    for node, values in chunk.items():\n",
        "        print(f\"Receiving update from node: '{node}'\")\n",
        "        if node == \"action\":\n",
        "          print(f\"Tool Used: {values['messages'][0].name}\")\n",
        "        print(values[\"messages\"])\n",
        "\n",
        "        print(\"\\n\\n\")"
      ]
    },
    {
      "cell_type": "markdown",
      "metadata": {
        "id": "CXzDlZVz1Hnf"
      },
      "source": [
        "#### 🏗️ Activity #2:\n",
        "\n",
        "Please write out the steps the agent took to arrive at the correct answer.\n",
        "\n",
        "Step 1: Agent received query about QLoRA paper and author tweets\n",
        "Step 2: Agent called Arxiv tool to search for \"QLoRA\" paper\n",
        "Step 3: Arxiv returned paper details with authors: Tim Dettmers, Artidoro Pagnoni, Ari Holtzman, Luke Zettlemoyer\n",
        "Step 4: Agent called Tavily tool to search for each author's latest social media activity\n",
        "Step 5: Agent combined both results and provided final comprehensive answer"
      ]
    },
    {
      "cell_type": "markdown",
      "metadata": {
        "id": "v7c8-Uyarh1v"
      },
      "source": [
        "# LangSmith Evaluator (Optional)"
      ]
    },
    {
      "cell_type": "markdown",
      "metadata": {
        "id": "pV3XeFOT1Sar"
      },
      "source": [
        "### Pre-processing for LangSmith"
      ]
    },
    {
      "cell_type": "markdown",
      "metadata": {
        "id": "wruQCuzewUuO"
      },
      "source": [
        "To do a little bit more preprocessing, let's wrap our LangGraph agent in a simple chain."
      ]
    },
    {
      "cell_type": "code",
      "execution_count": 19,
      "metadata": {
        "id": "oeXdQgbxwhTv"
      },
      "outputs": [],
      "source": [
        "def convert_inputs(input_object):\n",
        "  return {\"messages\" : [HumanMessage(content=input_object[\"question\"])]}\n",
        "\n",
        "def parse_output(input_state):\n",
        "  return input_state[\"messages\"][-1].content\n",
        "\n",
        "agent_chain_with_formatting = convert_inputs | simple_agent_graph | parse_output"
      ]
    },
    {
      "cell_type": "code",
      "execution_count": 20,
      "metadata": {
        "colab": {
          "base_uri": "https://localhost:8080/",
          "height": 105
        },
        "id": "orYxBZXSxJjZ",
        "outputId": "76be837b-6424-4516-8f63-07fbd8c25bf5"
      },
      "outputs": [
        {
          "data": {
            "text/plain": [
              "\"RAG can refer to different concepts depending on the context. Could you please specify whether you're asking about RAG in the context of project management, machine learning, or another field?\""
            ]
          },
          "execution_count": 20,
          "metadata": {},
          "output_type": "execute_result"
        }
      ],
      "source": [
        "agent_chain_with_formatting.invoke({\"question\" : \"What is RAG?\"})"
      ]
    },
    {
      "cell_type": "markdown",
      "metadata": {
        "id": "f9UkCIqkpyZu"
      },
      "source": [
        "### Task 1: Creating An Evaluation Dataset\n",
        "\n",
        "Just as we saw last week, we'll want to create a dataset to test our Agent's ability to answer questions.\n",
        "\n",
        "In order to do this - we'll want to provide some questions and some answers. Let's look at how we can create such a dataset below.\n",
        "\n",
        "```python\n",
        "questions = [\n",
        "    \"What optimizer is used in QLoRA?\",\n",
        "    \"What data type was created in the QLoRA paper?\",\n",
        "    \"What is a Retrieval Augmented Generation system?\",\n",
        "    \"Who authored the QLoRA paper?\",\n",
        "    \"What is the most popular deep learning framework?\",\n",
        "    \"What significant improvements does the LoRA system make?\"\n",
        "]\n",
        "\n",
        "answers = [\n",
        "    {\"must_mention\" : [\"paged\", \"optimizer\"]},\n",
        "    {\"must_mention\" : [\"NF4\", \"NormalFloat\"]},\n",
        "    {\"must_mention\" : [\"ground\", \"context\"]},\n",
        "    {\"must_mention\" : [\"Tim\", \"Dettmers\"]},\n",
        "    {\"must_mention\" : [\"PyTorch\", \"TensorFlow\"]},\n",
        "    {\"must_mention\" : [\"reduce\", \"parameters\"]},\n",
        "]\n",
        "```"
      ]
    },
    {
      "cell_type": "markdown",
      "metadata": {
        "id": "VfMXF2KAsQxs"
      },
      "source": [
        "#### 🏗️ Activity #3:\n",
        "\n",
        "Please create a dataset in the above format with at least 5 questions."
      ]
    },
    {
      "cell_type": "code",
      "execution_count": 23,
      "metadata": {
        "id": "CbagRuJop83E"
      },
      "outputs": [],
      "source": [
        "questions = [\n",
        "    \"What optimizer is used in QLoRA?\",\n",
        "    \"What data type was created in the QLoRA paper?\",\n",
        "    \"What is a Retrieval Augmented Generation system?\",\n",
        "    \"Who authored the QLoRA paper?\",\n",
        "    \"What is the most popular deep learning framework?\",\n",
        "    \"What significant improvements does the LoRA system make?\"\n",
        "]\n",
        "\n",
        "answers = [\n",
        "    {\"must_mention\" : [\"paged\", \"optimizer\"]},\n",
        "    {\"must_mention\" : [\"NF4\", \"NormalFloat\"]},\n",
        "    {\"must_mention\" : [\"ground\", \"context\"]},\n",
        "    {\"must_mention\" : [\"Tim\", \"Dettmers\"]},\n",
        "    {\"must_mention\" : [\"PyTorch\", \"TensorFlow\"]},\n",
        "    {\"must_mention\" : [\"reduce\", \"parameters\"]},\n",
        "]"
      ]
    },
    {
      "cell_type": "markdown",
      "metadata": {
        "id": "z7QVFuAmsh7L"
      },
      "source": [
        "Now we can add our dataset to our LangSmith project using the following code which we saw last Thursday!"
      ]
    },
    {
      "cell_type": "code",
      "execution_count": 24,
      "metadata": {
        "id": "RLfrZrgSsn85"
      },
      "outputs": [
        {
          "data": {
            "text/plain": [
              "{'example_ids': ['4aec8d91-c57c-47ce-81bd-b7171d561468',\n",
              "  '10ba157e-8c94-4919-8bbb-efa095885346',\n",
              "  'e9065d56-8234-4a71-982f-48f3101f7dc1',\n",
              "  '63249d07-63d5-4919-9676-1055ff2e8066',\n",
              "  '8bd473af-88f7-409f-adb3-0a2aa03dedc3',\n",
              "  '9725b9b8-986c-4a14-b3cb-b5703e2d3b31'],\n",
              " 'count': 6}"
            ]
          },
          "execution_count": 24,
          "metadata": {},
          "output_type": "execute_result"
        }
      ],
      "source": [
        "from langsmith import Client\n",
        "\n",
        "client = Client()\n",
        "\n",
        "dataset_name = f\"Retrieval Augmented Generation - Evaluation Dataset - {uuid4().hex[0:8]}\"\n",
        "\n",
        "dataset = client.create_dataset(\n",
        "    dataset_name=dataset_name,\n",
        "    description=\"Questions about the QLoRA Paper to Evaluate RAG over the same paper.\"\n",
        ")\n",
        "\n",
        "client.create_examples(\n",
        "    inputs=[{\"question\" : q} for q in questions],\n",
        "    outputs=answers,\n",
        "    dataset_id=dataset.id,\n",
        ")"
      ]
    },
    {
      "cell_type": "markdown",
      "metadata": {
        "id": "-lRTXUrTtP9Y"
      },
      "source": [
        "### Task 2: Adding Evaluators\n",
        "\n",
        "Now we can add a custom evaluator to see if our responses contain the expected information.\n",
        "\n",
        "We'll be using a fairly naive exact-match process to determine if our response contains specific strings."
      ]
    },
    {
      "cell_type": "code",
      "execution_count": 25,
      "metadata": {
        "id": "QrAUXMFftlAY"
      },
      "outputs": [],
      "source": [
        "from langsmith.evaluation import EvaluationResult, run_evaluator\n",
        "\n",
        "@run_evaluator\n",
        "def must_mention(run, example) -> EvaluationResult:\n",
        "    prediction = run.outputs.get(\"output\") or \"\"\n",
        "    required = example.outputs.get(\"must_mention\") or []\n",
        "    score = all(phrase in prediction for phrase in required)\n",
        "    return EvaluationResult(key=\"must_mention\", score=score)"
      ]
    },
    {
      "cell_type": "markdown",
      "metadata": {
        "id": "r1RJr349zhv7"
      },
      "source": [
        "Task 3: Evaluating\n",
        "\n",
        "All that is left to do is evaluate our agent's response!"
      ]
    },
    {
      "cell_type": "code",
      "execution_count": 26,
      "metadata": {
        "colab": {
          "base_uri": "https://localhost:8080/",
          "height": 118,
          "referenced_widgets": [
            "efcf57067cf743d8b4ce059a61cbe02e",
            "53e33aae3b97490c82aec7bbb0d6ebba",
            "ad84e0e971d3455db2efe7dd0d1f803e",
            "72adef9b70dd48198b7322b6c5b113cf",
            "8a61d045ffd44ac58f3f13eb10044836",
            "041e22a9b5514e36bd4d1dac01d5d398",
            "886d762f2a7c421382efb5502c6d42a1",
            "ab91fd625bbd43afbf8c6398193a88d0",
            "716557ad09874dcb989d75f7c74424cd",
            "77d4c0ebaae045b58efc4f789c9a2360",
            "0d622ccc56264fac8fd7508dbdbe6e29"
          ]
        },
        "id": "p5TeCUUkuGld",
        "outputId": "2f7d62a2-e78d-447a-d07b-f9e4d500fb79"
      },
      "outputs": [
        {
          "name": "stdout",
          "output_type": "stream",
          "text": [
            "View the evaluation results for experiment: 'Search Pipeline - Evaluation - 9401-7402daec' at:\n",
            "https://smith.langchain.com/o/9c7c3ac1-7135-4dc6-aa10-ea69e3c52e05/datasets/df88414b-1ecb-423b-9cd2-44b295593551/compare?selectedSessions=f6a9c0be-ae06-4f0b-9ade-8ccdfc629b77\n",
            "\n",
            "\n"
          ]
        },
        {
          "data": {
            "application/vnd.jupyter.widget-view+json": {
              "model_id": "4393bd5057044da89f4aae58708d023a",
              "version_major": 2,
              "version_minor": 0
            },
            "text/plain": [
              "0it [00:00, ?it/s]"
            ]
          },
          "metadata": {},
          "output_type": "display_data"
        }
      ],
      "source": [
        "experiment_results = client.evaluate(\n",
        "    agent_chain_with_formatting,\n",
        "    data=dataset_name,\n",
        "    evaluators=[must_mention],\n",
        "    experiment_prefix=f\"Search Pipeline - Evaluation - {uuid4().hex[0:4]}\",\n",
        "    metadata={\"version\": \"1.0.0\"},\n",
        ")"
      ]
    },
    {
      "cell_type": "code",
      "execution_count": 27,
      "metadata": {
        "colab": {
          "base_uri": "https://localhost:8080/",
          "height": 342
        },
        "id": "eeEqU7s05Byu",
        "outputId": "78395075-a05d-4ebd-c798-ed968b935318"
      },
      "outputs": [
        {
          "data": {
            "text/html": [
              "<ExperimentResults Search Pipeline - Evaluation - 9401-7402daec>"
            ],
            "text/plain": [
              "<ExperimentResults Search Pipeline - Evaluation - 9401-7402daec>"
            ]
          },
          "execution_count": 27,
          "metadata": {},
          "output_type": "execute_result"
        }
      ],
      "source": [
        "experiment_results"
      ]
    },
    {
      "cell_type": "markdown",
      "metadata": {
        "id": "jhTNe4kWrplB"
      },
      "source": [
        "## Part 2: LangGraph with Helpfulness:"
      ]
    },
    {
      "cell_type": "markdown",
      "metadata": {
        "id": "w1wKRddbIY_S"
      },
      "source": [
        "### Task 3: Adding Helpfulness Check and \"Loop\" Limits\n",
        "\n",
        "Now that we've done evaluation - let's see if we can add an extra step where we review the content we've generated to confirm if it fully answers the user's query!\n",
        "\n",
        "We're going to make a few key adjustments to account for this:\n",
        "\n",
        "1. We're going to add an artificial limit on how many \"loops\" the agent can go through - this will help us to avoid the potential situation where we never exit the loop.\n",
        "2. We'll add to our existing conditional edge to obtain the behaviour we desire."
      ]
    },
    {
      "cell_type": "markdown",
      "metadata": {
        "id": "npTYJ8ayR5B3"
      },
      "source": [
        "First, let's define our state again - we can check the length of the state object, so we don't need additional state for this."
      ]
    },
    {
      "cell_type": "code",
      "execution_count": 28,
      "metadata": {
        "id": "-LQ84YhyJG0w"
      },
      "outputs": [],
      "source": [
        "class AgentState(TypedDict):\n",
        "  messages: Annotated[list, add_messages]"
      ]
    },
    {
      "cell_type": "markdown",
      "metadata": {
        "id": "sD7EV0HqSQcb"
      },
      "source": [
        "Now we can set our graph up! This process will be almost entirely the same - with the inclusion of one additional node/conditional edge!"
      ]
    },
    {
      "cell_type": "markdown",
      "metadata": {
        "id": "M6rN7feNVn9f"
      },
      "source": [
        "##### YOUR MARKDOWN HERE"
      ]
    },
    {
      "cell_type": "markdown",
      "metadata": {},
      "source": [
        "This cell initializes a new StateGraph with the same AgentState structure we used before. We're creating a fresh graph that will include helpfulness checking functionality, which will allow the agent to evaluate whether its responses are sufficiently helpful to the user's query."
      ]
    },
    {
      "cell_type": "code",
      "execution_count": 29,
      "metadata": {
        "colab": {
          "base_uri": "https://localhost:8080/"
        },
        "id": "6r6XXA5FJbVf",
        "outputId": "ff713041-e498-4f0f-a875-a03502b87729"
      },
      "outputs": [
        {
          "data": {
            "text/plain": [
              "<langgraph.graph.state.StateGraph at 0x2761a004e10>"
            ]
          },
          "execution_count": 29,
          "metadata": {},
          "output_type": "execute_result"
        }
      ],
      "source": [
        "graph_with_helpfulness_check = StateGraph(AgentState)\n",
        "\n",
        "graph_with_helpfulness_check.add_node(\"agent\", call_model)\n",
        "graph_with_helpfulness_check.add_node(\"action\", tool_node)"
      ]
    },
    {
      "cell_type": "markdown",
      "metadata": {
        "id": "XZ22o2mWVrfp"
      },
      "source": [
        "##### YOUR MARKDOWN HERE"
      ]
    },
    {
      "cell_type": "markdown",
      "metadata": {},
      "source": [
        "Here we add the same two core nodes to our graph: the \"agent\" node that calls the model and the \"action\" node that executes tools."
      ]
    },
    {
      "cell_type": "code",
      "execution_count": 32,
      "metadata": {
        "colab": {
          "base_uri": "https://localhost:8080/"
        },
        "id": "HNWHwWxuRiLY",
        "outputId": "295f5a35-ceff-452a-ffb8-c52eada6a816"
      },
      "outputs": [
        {
          "data": {
            "text/plain": [
              "<langgraph.graph.state.StateGraph at 0x2761a004e10>"
            ]
          },
          "execution_count": 32,
          "metadata": {},
          "output_type": "execute_result"
        }
      ],
      "source": [
        "graph_with_helpfulness_check.set_entry_point(\"agent\")"
      ]
    },
    {
      "cell_type": "markdown",
      "metadata": {
        "id": "rsXeF6xlaXOZ"
      },
      "source": [
        "##### YOUR MARKDOWN HERE"
      ]
    },
    {
      "cell_type": "markdown",
      "metadata": {},
      "source": [
        "This cell designates the \"agent\" node as the starting point for our graph execution. All queries will begin by going through the agent node, which will then decide whether to use tools or provide a direct response."
      ]
    },
    {
      "cell_type": "code",
      "execution_count": 33,
      "metadata": {
        "id": "z_Sq3A9SaV1O"
      },
      "outputs": [],
      "source": [
        "from langchain_core.prompts import PromptTemplate\n",
        "from langchain_core.output_parsers import StrOutputParser\n",
        "\n",
        "def tool_call_or_helpful(state):\n",
        "  last_message = state[\"messages\"][-1]\n",
        "\n",
        "  if last_message.tool_calls:\n",
        "    return \"action\"\n",
        "\n",
        "  initial_query = state[\"messages\"][0]\n",
        "  final_response = state[\"messages\"][-1]\n",
        "\n",
        "  if len(state[\"messages\"]) > 10:\n",
        "    return \"END\"\n",
        "\n",
        "  prompt_template = \"\"\"\\\n",
        "  Given an initial query and a final response, determine if the final response is extremely helpful or not. Please indicate helpfulness with a 'Y' and unhelpfulness as an 'N'.\n",
        "\n",
        "  Initial Query:\n",
        "  {initial_query}\n",
        "\n",
        "  Final Response:\n",
        "  {final_response}\"\"\"\n",
        "\n",
        "  helpfullness_prompt_template = PromptTemplate.from_template(prompt_template)\n",
        "\n",
        "  helpfulness_check_model = ChatOpenAI(model=\"gpt-4.1-mini\")\n",
        "\n",
        "  helpfulness_chain = helpfullness_prompt_template | helpfulness_check_model | StrOutputParser()\n",
        "\n",
        "  helpfulness_response = helpfulness_chain.invoke({\"initial_query\" : initial_query.content, \"final_response\" : final_response.content})\n",
        "\n",
        "  if \"Y\" in helpfulness_response:\n",
        "    return \"end\"\n",
        "  else:\n",
        "    return \"continue\""
      ]
    },
    {
      "cell_type": "markdown",
      "metadata": {
        "id": "Fz1u9Vf4SHxJ"
      },
      "source": [
        "#### 🏗️ Activity #4:\n",
        "\n",
        "Please write what is happening in our `tool_call_or_helpful` function!"
      ]
    },
    {
      "cell_type": "markdown",
      "metadata": {
        "id": "6BhnBW2YVsJO"
      },
      "source": [
        "##### YOUR MARKDOWN HERE"
      ]
    },
    {
      "cell_type": "markdown",
      "metadata": {},
      "source": [
        "is cell adds the conditional edge logic that determines the flow between nodes. The tool_call_or_helpful function now includes helpfulness evaluation - it checks if the response is helpful enough, and if not, it continues the cycle to try again. "
      ]
    },
    {
      "cell_type": "code",
      "execution_count": 34,
      "metadata": {
        "colab": {
          "base_uri": "https://localhost:8080/"
        },
        "id": "aVTKnWMbP_8T",
        "outputId": "7f729b1f-311c-4084-ceaf-0da437900c85"
      },
      "outputs": [
        {
          "data": {
            "text/plain": [
              "<langgraph.graph.state.StateGraph at 0x2761a004e10>"
            ]
          },
          "execution_count": 34,
          "metadata": {},
          "output_type": "execute_result"
        }
      ],
      "source": [
        "graph_with_helpfulness_check.add_conditional_edges(\n",
        "    \"agent\",\n",
        "    tool_call_or_helpful,\n",
        "    {\n",
        "        \"continue\" : \"agent\",\n",
        "        \"action\" : \"action\",\n",
        "        \"end\" : END\n",
        "    }\n",
        ")"
      ]
    },
    {
      "cell_type": "markdown",
      "metadata": {
        "id": "ZGDLEWOIVtK0"
      },
      "source": [
        "##### YOUR MARKDOWN HERE"
      ]
    },
    {
      "cell_type": "markdown",
      "metadata": {},
      "source": [
        "his cell creates the edge that allows the action node (which executes tools) to return its results back to the agent node. "
      ]
    },
    {
      "cell_type": "code",
      "execution_count": 35,
      "metadata": {
        "colab": {
          "base_uri": "https://localhost:8080/"
        },
        "id": "cbDK2MbuREgU",
        "outputId": "21a64c20-27a1-4e0e-afde-a639abaa8b55"
      },
      "outputs": [
        {
          "data": {
            "text/plain": [
              "<langgraph.graph.state.StateGraph at 0x2761a004e10>"
            ]
          },
          "execution_count": 35,
          "metadata": {},
          "output_type": "execute_result"
        }
      ],
      "source": [
        "graph_with_helpfulness_check.add_edge(\"action\", \"agent\")"
      ]
    },
    {
      "cell_type": "markdown",
      "metadata": {
        "id": "rSI8AOaEVvT-"
      },
      "source": [
        "##### YOUR MARKDOWN HERE"
      ]
    },
    {
      "cell_type": "markdown",
      "metadata": {},
      "source": [
        "This cell compiles the graph into an executable format. The compiled graph can now be invoked with inputs and will execute the entire workflow including helpfulness checking, making it ready for use."
      ]
    },
    {
      "cell_type": "code",
      "execution_count": 36,
      "metadata": {
        "id": "oQldl8ERQ8lf"
      },
      "outputs": [],
      "source": [
        "agent_with_helpfulness_check = graph_with_helpfulness_check.compile()"
      ]
    },
    {
      "cell_type": "markdown",
      "metadata": {
        "id": "F67FGCMRVwGz"
      },
      "source": [
        "##### YOUR MARKDOWN HERE"
      ]
    },
    {
      "cell_type": "markdown",
      "metadata": {},
      "source": [
        "This cell demonstrates how to use the compiled graph with helpfulness checking. It shows the graph in action, processing a complex query and making decisions about whether responses are helpful enough to satisfy the user's request."
      ]
    },
    {
      "cell_type": "code",
      "execution_count": 37,
      "metadata": {
        "colab": {
          "base_uri": "https://localhost:8080/"
        },
        "id": "B3oo8E-PRK1T",
        "outputId": "f152dea8-96ad-4d29-d8b2-a064c96a8bd3"
      },
      "outputs": [
        {
          "name": "stdout",
          "output_type": "stream",
          "text": [
            "Receiving update from node: 'agent'\n",
            "[AIMessage(content='', additional_kwargs={'tool_calls': [{'id': 'call_vsthzaPb3lXOogT0BnmSdHZE', 'function': {'arguments': '{\"query\": \"LoRA machine learning\"}', 'name': 'tavily_search_results_json'}, 'type': 'function'}, {'id': 'call_rgf9SD3VHQu9LNfo2omf3wvr', 'function': {'arguments': '{\"query\": \"Tim Dettmers\"}', 'name': 'tavily_search_results_json'}, 'type': 'function'}, {'id': 'call_hTC0K6wCHRVR7vM2t09Yddun', 'function': {'arguments': '{\"query\": \"Attention in machine learning\"}', 'name': 'tavily_search_results_json'}, 'type': 'function'}], 'refusal': None}, response_metadata={'token_usage': {'completion_tokens': 79, 'prompt_tokens': 177, 'total_tokens': 256, 'completion_tokens_details': {'accepted_prediction_tokens': 0, 'audio_tokens': 0, 'reasoning_tokens': 0, 'rejected_prediction_tokens': 0}, 'prompt_tokens_details': {'audio_tokens': 0, 'cached_tokens': 0}}, 'model_name': 'gpt-4.1-nano-2025-04-14', 'system_fingerprint': 'fp_c4c155951e', 'id': 'chatcmpl-C4pOQJYLUOUe5eQqJNCTTTzAraJdS', 'service_tier': 'default', 'finish_reason': 'tool_calls', 'logprobs': None}, id='run--2b6e6356-aea2-418a-adc0-8fda7b8f04e7-0', tool_calls=[{'name': 'tavily_search_results_json', 'args': {'query': 'LoRA machine learning'}, 'id': 'call_vsthzaPb3lXOogT0BnmSdHZE', 'type': 'tool_call'}, {'name': 'tavily_search_results_json', 'args': {'query': 'Tim Dettmers'}, 'id': 'call_rgf9SD3VHQu9LNfo2omf3wvr', 'type': 'tool_call'}, {'name': 'tavily_search_results_json', 'args': {'query': 'Attention in machine learning'}, 'id': 'call_hTC0K6wCHRVR7vM2t09Yddun', 'type': 'tool_call'}], usage_metadata={'input_tokens': 177, 'output_tokens': 79, 'total_tokens': 256, 'input_token_details': {'audio': 0, 'cache_read': 0}, 'output_token_details': {'audio': 0, 'reasoning': 0}})]\n",
            "\n",
            "\n",
            "\n",
            "Receiving update from node: 'action'\n",
            "[ToolMessage(content='[{\"title\": \"What is LoRA? | Low-rank adaptation - Cloudflare\", \"url\": \"https://www.cloudflare.com/learning/ai/what-is-lora/\", \"content\": \"Low-rank adaptation (LoRA) is a way to adapt a large machine learning model for specific uses without retraining the entire model. Low-rank adaptation (LoRA) is a technique for quickly adapting machine learning models to new contexts. LoRA helps make huge and complicated machine learning models much more suited for specific uses. Large and complex machine learning models, such as those used for large language models (LLMs) like ChatGPT, take a long time and a lot of resources to set up. ## How does low-rank adaptation impact a machine learning model? LoRA adds low-rank matrices to the frozen original machine learning model. Low-rank matrices are like those cheap adapters, with the outlets being the original machine learning models.\", \"score\": 0.98571}, {\"title\": \"What is LoRA (Low-Rank Adaption)?\", \"url\": \"https://www.ibm.com/think/topics/lora\", \"content\": \"Low-rank adaptation (LoRA) is a technique used to adapt machine learning models to new contexts. LoRA leverages the concept of lower-rank matrices to make the model training process extremely efficient and fast. By leveraging smaller matrices, which are called low-rank matrices, LoRA adapts these models effectively. LoRA adds low-rank matrices to the frozen original machine learning model. To implement LoRA fine tuning with HuggingFace using Python and PyTorch, developers can use the parameter-efficient fine-tuning (PEFT) library to inject the LoRA adapters into the model and use them as the update matrices. Removing this resiliency can make models less accurate, so the rank of update matrices can be tuned as a part of the LoRA process.\", \"score\": 0.98516}, {\"title\": \"LoRA: Low-Rank Adaptation of Large Language Models\", \"url\": \"https://arxiv.org/abs/2106.09685\", \"content\": \"**arXiv:2106.09685** (cs)  Hu, Yelong Shen, Phillip Wallis, Zeyuan Allen-Zhu, Yuanzhi Li, Shean Wang, Lu Wang, Weizhu Chen View a PDF of the paper titled LoRA: Low-Rank Adaptation of Large Language Models, by Edward J. (or arXiv:2106.09685v2 [cs.CL] for this version) View a PDF of the paper titled LoRA: Low-Rank Adaptation of Large Language Models, by Edward J. - [x] Bibliographic Explorer Toggle  - [x] Connected Papers Toggle  - [x] Litmaps Toggle  - [x] scite.ai Toggle  - [x] alphaXiv Toggle  - [x] Links to Code Toggle  - [x] DagsHub Toggle  - [x] GotitPub Toggle  - [x] Huggingface Toggle  - [x] Links to Code Toggle  - [x] ScienceCast Toggle  - [x] Replicate Toggle  - [x] Spaces Toggle  - [x] Core recommender toggle \", \"score\": 0.97828}, {\"title\": \"Understanding LoRA with a minimal example - Posit AI Blog\", \"url\": \"https://blogs.rstudio.com/ai/posts/2023-06-22-understanding-lora/\", \"content\": \"LoRA (Low Rank Adaptation) is a new technique for fine-tuning deep learning models that works by reducing the number of trainable parameters and enables efficient task switching. LoRA (Low-Rank Adaptation) is a new technique for fine tuning large scale pre-trained LoRA: Low-Rank Adaptation of Large Language Models are the data and Θ0 the weights from a pre-trained model. 2. Train a full rank linear model to estimate θ - this will be our ‘pre-trained’ model. 4. Train a low rank model using the pre=trained weights. train <- function(model, X, y, batch_size = 128, epochs = 100) { train(model, X, y) We now initialize the LoRA model. The LoRA model that we are Now let’s train the lora model on the new distribution:\", \"score\": 0.97297}, {\"title\": \"Mastering Low-Rank Adaptation (LoRA): Enhancing Large ...\", \"url\": \"https://www.datacamp.com/tutorial/mastering-low-rank-adaptation-lora-enhancing-large-language-models-for-efficient-adaptation\", \"content\": \"Discover how LoRA revolutionizes the fine-tuning of Large Language Models. Image 1: LoRA: Low-Rank Adaptation of Large Language Models _LoRA: Low-Rank Adaptation of Large Language Models_ Unlike traditional fine-tuning that requires adjusting the entire model, **LoRA focuses on modifying a smaller subset of parameters (lower-rank matrices)**, thereby reducing computational and memory overhead. By requiring fewer trainable parameters, LoRA makes it feasible to fine-tune large models on less powerful hardware. Instead of fully fine-tuning large models like Stable Diffusion, we only train lower-rank matrices on small datasets. By leveraging lower-rank matrices, LoRA offers a more efficient and cost-effective approach to model adaptation, significantly reducing the trainable parameters and GPU memory requirements, thus enabling faster training and memory efficiency.\", \"score\": 0.97103}]', name='tavily_search_results_json', id='8b3edcc5-f684-4096-a214-469fae08f52d', tool_call_id='call_vsthzaPb3lXOogT0BnmSdHZE', artifact={'query': 'LoRA machine learning', 'follow_up_questions': None, 'answer': None, 'images': [], 'results': [{'url': 'https://www.cloudflare.com/learning/ai/what-is-lora/', 'title': 'What is LoRA? | Low-rank adaptation - Cloudflare', 'content': 'Low-rank adaptation (LoRA) is a way to adapt a large machine learning model for specific uses without retraining the entire model. Low-rank adaptation (LoRA) is a technique for quickly adapting machine learning models to new contexts. LoRA helps make huge and complicated machine learning models much more suited for specific uses. Large and complex machine learning models, such as those used for large language models (LLMs) like ChatGPT, take a long time and a lot of resources to set up. ## How does low-rank adaptation impact a machine learning model? LoRA adds low-rank matrices to the frozen original machine learning model. Low-rank matrices are like those cheap adapters, with the outlets being the original machine learning models.', 'score': 0.98571, 'raw_content': None}, {'url': 'https://www.ibm.com/think/topics/lora', 'title': 'What is LoRA (Low-Rank Adaption)?', 'content': 'Low-rank adaptation (LoRA) is a technique used to adapt machine learning models to new contexts. LoRA leverages the concept of lower-rank matrices to make the model training process extremely efficient and fast. By leveraging smaller matrices, which are called low-rank matrices, LoRA adapts these models effectively. LoRA adds low-rank matrices to the frozen original machine learning model. To implement LoRA fine tuning with HuggingFace using Python and PyTorch, developers can use the parameter-efficient fine-tuning (PEFT) library to inject the LoRA adapters into the model and use them as the update matrices. Removing this resiliency can make models less accurate, so the rank of update matrices can be tuned as a part of the LoRA process.', 'score': 0.98516, 'raw_content': None}, {'url': 'https://arxiv.org/abs/2106.09685', 'title': 'LoRA: Low-Rank Adaptation of Large Language Models', 'content': '**arXiv:2106.09685** (cs)  Hu, Yelong Shen, Phillip Wallis, Zeyuan Allen-Zhu, Yuanzhi Li, Shean Wang, Lu Wang, Weizhu Chen View a PDF of the paper titled LoRA: Low-Rank Adaptation of Large Language Models, by Edward J. (or arXiv:2106.09685v2 [cs.CL] for this version) View a PDF of the paper titled LoRA: Low-Rank Adaptation of Large Language Models, by Edward J. - [x] Bibliographic Explorer Toggle  - [x] Connected Papers Toggle  - [x] Litmaps Toggle  - [x] scite.ai Toggle  - [x] alphaXiv Toggle  - [x] Links to Code Toggle  - [x] DagsHub Toggle  - [x] GotitPub Toggle  - [x] Huggingface Toggle  - [x] Links to Code Toggle  - [x] ScienceCast Toggle  - [x] Replicate Toggle  - [x] Spaces Toggle  - [x] Core recommender toggle ', 'score': 0.97828, 'raw_content': None}, {'url': 'https://blogs.rstudio.com/ai/posts/2023-06-22-understanding-lora/', 'title': 'Understanding LoRA with a minimal example - Posit AI Blog', 'content': 'LoRA (Low Rank Adaptation) is a new technique for fine-tuning deep learning models that works by reducing the number of trainable parameters and enables efficient task switching. LoRA (Low-Rank Adaptation) is a new technique for fine tuning large scale pre-trained LoRA: Low-Rank Adaptation of Large Language Models are the data and Θ0 the weights from a pre-trained model. 2. Train a full rank linear model to estimate θ - this will be our ‘pre-trained’ model. 4. Train a low rank model using the pre=trained weights. train <- function(model, X, y, batch_size = 128, epochs = 100) { train(model, X, y) We now initialize the LoRA model. The LoRA model that we are Now let’s train the lora model on the new distribution:', 'score': 0.97297, 'raw_content': None}, {'url': 'https://www.datacamp.com/tutorial/mastering-low-rank-adaptation-lora-enhancing-large-language-models-for-efficient-adaptation', 'title': 'Mastering Low-Rank Adaptation (LoRA): Enhancing Large ...', 'content': 'Discover how LoRA revolutionizes the fine-tuning of Large Language Models. Image 1: LoRA: Low-Rank Adaptation of Large Language Models _LoRA: Low-Rank Adaptation of Large Language Models_ Unlike traditional fine-tuning that requires adjusting the entire model, **LoRA focuses on modifying a smaller subset of parameters (lower-rank matrices)**, thereby reducing computational and memory overhead. By requiring fewer trainable parameters, LoRA makes it feasible to fine-tune large models on less powerful hardware. Instead of fully fine-tuning large models like Stable Diffusion, we only train lower-rank matrices on small datasets. By leveraging lower-rank matrices, LoRA offers a more efficient and cost-effective approach to model adaptation, significantly reducing the trainable parameters and GPU memory requirements, thus enabling faster training and memory efficiency.', 'score': 0.97103, 'raw_content': None}], 'response_time': 1.74, 'request_id': '62f67898-63ea-41d8-b2cb-4680743a33ca'}), ToolMessage(content='[{\"title\": \"Tim Dettmers - Google Scholar\", \"url\": \"https://scholar.google.com/citations?user=lHI3w5kAAAAJ&hl=en\", \"content\": \"| Llm. int8 (): 8-bit matrix multiplication for transformers at scale T Dettmers, M Lewis, Y Belkada, L Zettlemoyer NeurIPS 2022, 2022 | 1398*) | 2022 | | Base layers: Simplifying training of large, sparse models M Lewis, S Bhosale, T Dettmers, N Goyal, L Zettlemoyer ICML 2021, 2021 | 319 | 2021 | | Stable and low-precision training for large-scale vision-language models M Wortsman, T Dettmers, L Zettlemoyer, A Morcos, A Farhadi, L Schmidt NeurIPS 2023, 2023 | 63 | 2023 | | Scaling retrieval-based language models with a trillion-token datastore R Shao, J He, A Asai, W Shi, T Dettmers, S Min, L Zettlemoyer, PWW Koh Advances in Neural Information Processing Systems 37, 91260-91299, 2024 | 24 | 2024 |\", \"score\": 0.98578}, {\"title\": \"Tim Dettmers\", \"url\": \"https://csd.cmu.edu/people/faculty/tim-dettmers\", \"content\": \"# Tim Dettmers **Department**   Machine Learning Department   Computer Science Department **Research Interests**   Tim Dettmers\\' work focuses on making foundation models, such as ChatGPT, accessible to researchers and practitioners by reducing their resource requirements. His main focus is to develop open-source agent systems that are competitive with closed-weight agents and can be run on consumer hardware, such as laptops. His research won oral, spotlight, and best paper awards at conferences such as ICLR and NeurIPS and was awarded the Block Award and Madrona Prize. He created the bitsandbytes open-source library for efficient foundation models, which is growing at 2.2 million installations per month, and for which he received Google Open Source and PyTorch Foundation awards. ## Research Statement My current research interests include:   - open-source agents  \", \"score\": 0.98536}, {\"title\": \"Tim Dettmers — Making deep learning accessible.\", \"url\": \"https://timdettmers.com/\", \"content\": \"Header Right Blog Posts Topics Main navigation Which GPU(s) to Get for Deep Learning: My Experience and Advice for Using GPUs in Deep Learning 2023-01-30 by Tim Dettmers 1,665 Comments Deep learning is a field with intense computational requirements, and your choice of GPU will fundamentally determine your deep learning experience. This blog post will delve into these questions, tackle common misconceptions, give you an intuitive understanding of how to think about GPUs, and will lend you advice, which will help you to make a choice that is right for you. Here I will guide you step by step through the hardware you will need for a cheap high-performance system.\", \"score\": 0.98505}, {\"title\": \"About Me\", \"url\": \"https://timdettmers.com/about/\", \"content\": \"I have a PhD from University of Washington advised by Luke Zettlemoyer working on efficient deep learning at the intersection between machine learning, natural language processing, and computer systems with a focus on quantization and sparsity. I do this by making large models accessible through my research (QLoRA, LLM.int8(), k-bit inference scaling laws, Petals, SWARM) and by developing software that makes it easy to use my research innovations (bitsandbytes). My main research thesis is that computational efficient methods will accelerate and enable progress in and understanding of deep learning. **Tim Dettmers**, Luke Zettlemoyer. **Tim Dettmers**,\\xa0Mike Lewis,\\xa0Younes Belkada,\\xa0Luke Zettlemoyer. **Tim Dettmers**, Luke Zettlemoyer. 8-Bit Approximations for Parallelism in Deep Learning,\\xa0**Tim** Dettmers. 2021\\xa0 \\xa0 \\xa0 \\xa0 \\xa0 \\xa0 \\xa0 \\xa0 \\xa0NeurIPS 2021 Best Reviewer Award\", \"score\": 0.98107}, {\"title\": \"Author: Tim Dettmers | NVIDIA Technical Blog\", \"url\": \"https://developer.nvidia.com/blog/author/tdettmers/\", \"content\": \"This series of blog posts aims to provide an intuitive and gentle introduction to deep learning that does not rely heavily on math or theoretical... We and our third-party partners also use cookies and other tools to collect and record information you provide as well as information about your interactions with our websites for performance improvement, analytics, and to assist in marketing efforts. To opt out of non-cookie personal information \\\\\"sales\\\\\" / \\\\\"sharing\\\\\" for targeted advertising purposes, please visit the NVIDIA Preference Center. We have also opted you out of \\\\\"sharing\\\\\"/\\\\\"sales\\\\\" of personal information outside of cookies which overrides at least one of your previous settings.\", \"score\": 0.97956}]', name='tavily_search_results_json', id='e5770464-ab7e-43a4-8ff5-921bee238c8e', tool_call_id='call_rgf9SD3VHQu9LNfo2omf3wvr', artifact={'query': 'Tim Dettmers', 'follow_up_questions': None, 'answer': None, 'images': [], 'results': [{'url': 'https://scholar.google.com/citations?user=lHI3w5kAAAAJ&hl=en', 'title': 'Tim Dettmers - Google Scholar', 'content': '| Llm. int8 (): 8-bit matrix multiplication for transformers at scale T Dettmers, M Lewis, Y Belkada, L Zettlemoyer NeurIPS 2022, 2022 | 1398*) | 2022 | | Base layers: Simplifying training of large, sparse models M Lewis, S Bhosale, T Dettmers, N Goyal, L Zettlemoyer ICML 2021, 2021 | 319 | 2021 | | Stable and low-precision training for large-scale vision-language models M Wortsman, T Dettmers, L Zettlemoyer, A Morcos, A Farhadi, L Schmidt NeurIPS 2023, 2023 | 63 | 2023 | | Scaling retrieval-based language models with a trillion-token datastore R Shao, J He, A Asai, W Shi, T Dettmers, S Min, L Zettlemoyer, PWW Koh Advances in Neural Information Processing Systems 37, 91260-91299, 2024 | 24 | 2024 |', 'score': 0.98578, 'raw_content': None}, {'url': 'https://csd.cmu.edu/people/faculty/tim-dettmers', 'title': 'Tim Dettmers', 'content': \"# Tim Dettmers **Department**   Machine Learning Department   Computer Science Department **Research Interests**   Tim Dettmers' work focuses on making foundation models, such as ChatGPT, accessible to researchers and practitioners by reducing their resource requirements. His main focus is to develop open-source agent systems that are competitive with closed-weight agents and can be run on consumer hardware, such as laptops. His research won oral, spotlight, and best paper awards at conferences such as ICLR and NeurIPS and was awarded the Block Award and Madrona Prize. He created the bitsandbytes open-source library for efficient foundation models, which is growing at 2.2 million installations per month, and for which he received Google Open Source and PyTorch Foundation awards. ## Research Statement My current research interests include:   - open-source agents  \", 'score': 0.98536, 'raw_content': None}, {'url': 'https://timdettmers.com/', 'title': 'Tim Dettmers — Making deep learning accessible.', 'content': 'Header Right Blog Posts Topics Main navigation Which GPU(s) to Get for Deep Learning: My Experience and Advice for Using GPUs in Deep Learning 2023-01-30 by Tim Dettmers 1,665 Comments Deep learning is a field with intense computational requirements, and your choice of GPU will fundamentally determine your deep learning experience. This blog post will delve into these questions, tackle common misconceptions, give you an intuitive understanding of how to think about GPUs, and will lend you advice, which will help you to make a choice that is right for you. Here I will guide you step by step through the hardware you will need for a cheap high-performance system.', 'score': 0.98505, 'raw_content': None}, {'url': 'https://timdettmers.com/about/', 'title': 'About Me', 'content': 'I have a PhD from University of Washington advised by Luke Zettlemoyer working on efficient deep learning at the intersection between machine learning, natural language processing, and computer systems with a focus on quantization and sparsity. I do this by making large models accessible through my research (QLoRA, LLM.int8(), k-bit inference scaling laws, Petals, SWARM) and by developing software that makes it easy to use my research innovations (bitsandbytes). My main research thesis is that computational efficient methods will accelerate and enable progress in and understanding of deep learning. **Tim Dettmers**, Luke Zettlemoyer. **Tim Dettmers**,\\xa0Mike Lewis,\\xa0Younes Belkada,\\xa0Luke Zettlemoyer. **Tim Dettmers**, Luke Zettlemoyer. 8-Bit Approximations for Parallelism in Deep Learning,\\xa0**Tim** Dettmers. 2021\\xa0 \\xa0 \\xa0 \\xa0 \\xa0 \\xa0 \\xa0 \\xa0 \\xa0NeurIPS 2021 Best Reviewer Award', 'score': 0.98107, 'raw_content': None}, {'url': 'https://developer.nvidia.com/blog/author/tdettmers/', 'title': 'Author: Tim Dettmers | NVIDIA Technical Blog', 'content': 'This series of blog posts aims to provide an intuitive and gentle introduction to deep learning that does not rely heavily on math or theoretical... We and our third-party partners also use cookies and other tools to collect and record information you provide as well as information about your interactions with our websites for performance improvement, analytics, and to assist in marketing efforts. To opt out of non-cookie personal information \"sales\" / \"sharing\" for targeted advertising purposes, please visit the NVIDIA Preference Center. We have also opted you out of \"sharing\"/\"sales\" of personal information outside of cookies which overrides at least one of your previous settings.', 'score': 0.97956, 'raw_content': None}], 'response_time': 1.46, 'request_id': 'd403aa21-910b-4004-80bd-4bb4284b2019'}), ToolMessage(content='[{\"title\": \"Attention (machine learning)\", \"url\": \"https://en.wikipedia.org/wiki/Attention_(machine_learning)\", \"content\": \"Attention (machine learning) - Wikipedia Attention (machine learning) | Concepts | * Parameter * Hyperparameter * Loss functions * Regression * Bias–variance tradeoff * Double descent * Overfitting * Clustering * Gradient descent * SGD * Quasi-Newton method * Conjugate gradient method * Backpropagation * Attention * Convolution * Normalization * Batchnorm * Activation * Softmax * Sigmoid * Rectifier * Gating * Weight initialization * Regularization * Datasets * Augmentation * Prompt engineering * Reinforcement learning * Q-learning * SARSA * Imitation * Policy gradient * Diffusion * Latent diffusion model * Autoregression * Adversary * RAG * Uncanny valley * RLHF * Self-supervised learning * Recursive self-improvement * Word embedding * Hallucination | Attention (machine learning)\", \"score\": 0.98594}, {\"title\": \"What is Attention Mechanism in Deep Learning? - Daffodil Software\", \"url\": \"https://insights.daffodilsw.com/blog/what-is-the-attention-mechanism-in-deep-learning\", \"content\": \"The earliest machine learning model problem that the attention mechanism derives its concepts from is known as the Sequence to Sequence (Seq2Seq) learning model. For each word in the output sequence, the attention mechanism maps the relevant words in the input sequence. With an attention model, the hidden states of the input sequence are all retained and utilized during the decoding process. When a sequence of words or an image is fed to a generalized attention model, it verifies each element of the input sequence and compares it against the output sequence. The attention mechanism has been instrumental in real-world problems related to the automated processing of speech, images, and text.\", \"score\": 0.98562}, {\"title\": \"What is an attention mechanism?\", \"url\": \"https://www.ibm.com/think/topics/attention-mechanism\", \"content\": \"To understand how attention mechanisms in deep learning work and why they helped spark a revolution in generative AI, it helps to first understand why attention was first introduced: to improve the RNN-based Seq2Seq models used for machine translation. Specific attention mechanism variants are differentiated primarily by how vectors are encoded, how alignment scores are calculated and attention weights are applied to provide the model with relevant information. With positional encoding, the model adds a vector of values to each token’s embedding, derived from its relative position, before the input enters the attention mechanism. For each token x in an input sequence, the transformer model computes (and then applies) attention weights as follows:\", \"score\": 0.98529}, {\"title\": \"Attention Mechanisms in Deep Learning: Enhancing Model ...\", \"url\": \"https://medium.com/@zhonghong9998/attention-mechanisms-in-deep-learning-enhancing-model-performance-32a91006092a\", \"content\": \"import tensorflow as tfimport numpy as np# Define the input and target language datainput_data = [\\\\\"I love deep learning\\\\\", \\\\\"Machine translation is fascinating\\\\\", \\\\\"Attention mechanisms improve models\\\\\"]target_data = [\\\\\"J\\'adore l\\'apprentissage profond\\\\\", \\\\\"La traduction automatique est fascinante\\\\\", \\\\\"Les mécanismes d\\'attention améliorent les modèles\\\\\"]# Tokenize the datainput_tokenizer = tf.keras.layers.TextVectorization()input_tokenizer.adapt(input_data)target_tokenizer = tf.keras.layers.TextVectorization()target_tokenizer.adapt(target_data)# Create tokenized sequencesinput_sequences = input_tokenizer(input_data)target_sequences = target_tokenizer(target_data)# Define the model architectureembedding_dim = 256units = 1024# Encoderencoder_inputs = tf.keras.layers.Input(shape=(None,))encoder_embedding = tf.keras.layers.Embedding(input_tokenizer.vocabulary_size, embedding_dim)(encoder_inputs)encoder, encoder_state_h, encoder_state_c = tf.keras.layers.LSTM(units, return_state=True)(encoder_embedding)encoder_states = [encoder_state_h, encoder_state_c]# Decoderdecoder_inputs = tf.keras.layers.Input(shape=(None,))decoder_embedding = tf.keras.layers.Embedding(target_tokenizer.vocabulary_size, embedding_dim)(decoder_inputs)decoder_lstm = tf.keras.layers.LSTM(units, return_sequences=True, return_state=True)decoder_outputs, _, _ = decoder_lstm(decoder_embedding, initial_state=encoder_states)attention = tf.keras.layers.Attention()([decoder_outputs, encoder_outputs])decoder_concat = tf.keras.layers.Concatenate(axis=-1)([decoder_outputs, attention])decoder_dense = tf.keras.layers.Dense(target_tokenizer.vocabulary_size, activation=\\'softmax\\')(decoder_concat)# Create the modelmodel = tf.keras.models.Model([encoder_inputs, decoder_inputs], decoder_dense)# Compile the modelmodel.compile(optimizer=\\'adam\\', loss=\\'sparse_categorical_crossentropy\\', metrics=[\\'accuracy\\'])# Train the model (you would need a larger dataset for real training)model.fit([input_sequences, target_sequences[:, :-1]], target_sequences[:, 1:], epochs=50)# Translate a sample sentencedef translate(input_text):    input_seq = input_tokenizer([input_text])    target_seq = np.zeros((1, target_max_length))    target_seq[0, 0] = target_tokenizer.word_index[\\'<start>\\']        for i in range(1, target_max_length):        predicted = model.predict([input_seq, target_seq])        predicted_word_index = np.argmax(predicted[:, i-1, :])        target_seq[0, i] = predicted_word_index                if target_tokenizer.index_word[predicted_word_index] == \\'<end>\\':            break        translated_sentence = \\' \\'.join([target_tokenizer.index_word[i] for i in target_seq[0] if i not in [0]])    return translated_sentence# Example translationinput_text = \\\\\"I love deep learning\\\\\"translated_text = translate(input_text)print(\\\\\"Input:\\\\\", input_text)print(\\\\\"Translation:\\\\\", translated_text) import as import as\", \"score\": 0.98459}, {\"title\": \"ML - Attention mechanism\", \"url\": \"https://www.geeksforgeeks.org/artificial-intelligence/ml-attention-mechanism/\", \"content\": \"They enable models to focus on important parts of the input data, much like how humans concentrate on key details while ignoring irrelevant information helping in better understand 7 min readTransformer Attention Mechanism in NLP Transformer model is a type of neural network architecture designed to handle sequential data primarily for tasks such as language translation, text generation and many more. This helps the model focus on important details, ensuring tasks like translation are accurate.Imagine generating captions for images (decoder) from a detai 5 min readAttention Mechanisms for Computer Vision Attention mechanisms have revolutionized the field of computer vision, enhancing the capability of neural networks to focus on the most relevant parts of an image.\", \"score\": 0.98066}]', name='tavily_search_results_json', id='e3e8404f-666f-4f02-aa06-db15d7433f90', tool_call_id='call_hTC0K6wCHRVR7vM2t09Yddun', artifact={'query': 'Attention in machine learning', 'follow_up_questions': None, 'answer': None, 'images': [], 'results': [{'url': 'https://en.wikipedia.org/wiki/Attention_(machine_learning)', 'title': 'Attention (machine learning)', 'content': 'Attention (machine learning) - Wikipedia Attention (machine learning) | Concepts | * Parameter * Hyperparameter * Loss functions * Regression * Bias–variance tradeoff * Double descent * Overfitting * Clustering * Gradient descent * SGD * Quasi-Newton method * Conjugate gradient method * Backpropagation * Attention * Convolution * Normalization * Batchnorm * Activation * Softmax * Sigmoid * Rectifier * Gating * Weight initialization * Regularization * Datasets * Augmentation * Prompt engineering * Reinforcement learning * Q-learning * SARSA * Imitation * Policy gradient * Diffusion * Latent diffusion model * Autoregression * Adversary * RAG * Uncanny valley * RLHF * Self-supervised learning * Recursive self-improvement * Word embedding * Hallucination | Attention (machine learning)', 'score': 0.98594, 'raw_content': None}, {'url': 'https://insights.daffodilsw.com/blog/what-is-the-attention-mechanism-in-deep-learning', 'title': 'What is Attention Mechanism in Deep Learning? - Daffodil Software', 'content': 'The earliest machine learning model problem that the attention mechanism derives its concepts from is known as the Sequence to Sequence (Seq2Seq) learning model. For each word in the output sequence, the attention mechanism maps the relevant words in the input sequence. With an attention model, the hidden states of the input sequence are all retained and utilized during the decoding process. When a sequence of words or an image is fed to a generalized attention model, it verifies each element of the input sequence and compares it against the output sequence. The attention mechanism has been instrumental in real-world problems related to the automated processing of speech, images, and text.', 'score': 0.98562, 'raw_content': None}, {'url': 'https://www.ibm.com/think/topics/attention-mechanism', 'title': 'What is an attention mechanism?', 'content': 'To understand how attention mechanisms in deep learning work and why they helped spark a revolution in generative AI, it helps to first understand why attention was first introduced: to improve the RNN-based Seq2Seq models used for machine translation. Specific attention mechanism variants are differentiated primarily by how vectors are encoded, how alignment scores are calculated and attention weights are applied to provide the model with relevant information. With positional encoding, the model adds a vector of values to each token’s embedding, derived from its relative position, before the input enters the attention mechanism. For each token x in an input sequence, the transformer model computes (and then applies) attention weights as follows:', 'score': 0.98529, 'raw_content': None}, {'url': 'https://medium.com/@zhonghong9998/attention-mechanisms-in-deep-learning-enhancing-model-performance-32a91006092a', 'title': 'Attention Mechanisms in Deep Learning: Enhancing Model ...', 'content': 'import tensorflow as tfimport numpy as np# Define the input and target language datainput_data = [\"I love deep learning\", \"Machine translation is fascinating\", \"Attention mechanisms improve models\"]target_data = [\"J\\'adore l\\'apprentissage profond\", \"La traduction automatique est fascinante\", \"Les mécanismes d\\'attention améliorent les modèles\"]# Tokenize the datainput_tokenizer = tf.keras.layers.TextVectorization()input_tokenizer.adapt(input_data)target_tokenizer = tf.keras.layers.TextVectorization()target_tokenizer.adapt(target_data)# Create tokenized sequencesinput_sequences = input_tokenizer(input_data)target_sequences = target_tokenizer(target_data)# Define the model architectureembedding_dim = 256units = 1024# Encoderencoder_inputs = tf.keras.layers.Input(shape=(None,))encoder_embedding = tf.keras.layers.Embedding(input_tokenizer.vocabulary_size, embedding_dim)(encoder_inputs)encoder, encoder_state_h, encoder_state_c = tf.keras.layers.LSTM(units, return_state=True)(encoder_embedding)encoder_states = [encoder_state_h, encoder_state_c]# Decoderdecoder_inputs = tf.keras.layers.Input(shape=(None,))decoder_embedding = tf.keras.layers.Embedding(target_tokenizer.vocabulary_size, embedding_dim)(decoder_inputs)decoder_lstm = tf.keras.layers.LSTM(units, return_sequences=True, return_state=True)decoder_outputs, _, _ = decoder_lstm(decoder_embedding, initial_state=encoder_states)attention = tf.keras.layers.Attention()([decoder_outputs, encoder_outputs])decoder_concat = tf.keras.layers.Concatenate(axis=-1)([decoder_outputs, attention])decoder_dense = tf.keras.layers.Dense(target_tokenizer.vocabulary_size, activation=\\'softmax\\')(decoder_concat)# Create the modelmodel = tf.keras.models.Model([encoder_inputs, decoder_inputs], decoder_dense)# Compile the modelmodel.compile(optimizer=\\'adam\\', loss=\\'sparse_categorical_crossentropy\\', metrics=[\\'accuracy\\'])# Train the model (you would need a larger dataset for real training)model.fit([input_sequences, target_sequences[:, :-1]], target_sequences[:, 1:], epochs=50)# Translate a sample sentencedef translate(input_text):    input_seq = input_tokenizer([input_text])    target_seq = np.zeros((1, target_max_length))    target_seq[0, 0] = target_tokenizer.word_index[\\'<start>\\']        for i in range(1, target_max_length):        predicted = model.predict([input_seq, target_seq])        predicted_word_index = np.argmax(predicted[:, i-1, :])        target_seq[0, i] = predicted_word_index                if target_tokenizer.index_word[predicted_word_index] == \\'<end>\\':            break        translated_sentence = \\' \\'.join([target_tokenizer.index_word[i] for i in target_seq[0] if i not in [0]])    return translated_sentence# Example translationinput_text = \"I love deep learning\"translated_text = translate(input_text)print(\"Input:\", input_text)print(\"Translation:\", translated_text) import as import as', 'score': 0.98459, 'raw_content': None}, {'url': 'https://www.geeksforgeeks.org/artificial-intelligence/ml-attention-mechanism/', 'title': 'ML - Attention mechanism', 'content': 'They enable models to focus on important parts of the input data, much like how humans concentrate on key details while ignoring irrelevant information helping in better understand 7 min readTransformer Attention Mechanism in NLP Transformer model is a type of neural network architecture designed to handle sequential data primarily for tasks such as language translation, text generation and many more. This helps the model focus on important details, ensuring tasks like translation are accurate.Imagine generating captions for images (decoder) from a detai 5 min readAttention Mechanisms for Computer Vision Attention mechanisms have revolutionized the field of computer vision, enhancing the capability of neural networks to focus on the most relevant parts of an image.', 'score': 0.98066, 'raw_content': None}], 'response_time': 1.37, 'request_id': '079d7ce2-0953-4f44-9b20-564ec7ac3e2d'})]\n",
            "\n",
            "\n",
            "\n",
            "Receiving update from node: 'agent'\n",
            "[AIMessage(content=\"Here's a summary of the information I found:\\n\\n1. **LoRA (Low-Rank Adaptation)**: LoRA is a technique used to adapt large machine learning models for specific tasks without retraining the entire model. It works by adding low-rank matrices to the frozen original model, which allows for efficient and fast fine-tuning. This approach reduces the number of trainable parameters, making it more resource-efficient, especially for large models like those used in natural language processing. You can find more details [here](https://www.cloudflare.com/learning/ai/what-is-lora/).\\n\\n2. **Tim Dettmers**: Tim Dettmers is a researcher focused on making foundation models like ChatGPT more accessible by reducing their resource requirements. He has developed open-source tools such as the bitsandbytes library for efficient foundation models and has contributed significantly to the field of deep learning. More about him can be found on his [CMU profile](https://csd.cmu.edu/people/faculty/tim-dettmers) and his [personal website](https://timdettmers.com/).\\n\\n3. **Attention in Machine Learning**: Attention mechanisms are techniques that allow models to focus on the most relevant parts of the input data. They have been instrumental in advancing natural language processing and computer vision tasks. Attention helps models weigh the importance of different input elements, improving performance in tasks like translation, image captioning, and more. More details are available on [Wikipedia](https://en.wikipedia.org/wiki/Attention_(machine_learning)) and other educational resources.\\n\\nWould you like more detailed explanations on any of these topics?\", additional_kwargs={'refusal': None}, response_metadata={'token_usage': {'completion_tokens': 331, 'prompt_tokens': 4019, 'total_tokens': 4350, 'completion_tokens_details': {'accepted_prediction_tokens': 0, 'audio_tokens': 0, 'reasoning_tokens': 0, 'rejected_prediction_tokens': 0}, 'prompt_tokens_details': {'audio_tokens': 0, 'cached_tokens': 0}}, 'model_name': 'gpt-4.1-nano-2025-04-14', 'system_fingerprint': 'fp_c4c155951e', 'id': 'chatcmpl-C4pOWMgUbOYusoNRYh5DV6I5CdM1J', 'service_tier': 'default', 'finish_reason': 'stop', 'logprobs': None}, id='run--e9f5ee6a-ef37-46ab-91f9-a18a7094ecbd-0', usage_metadata={'input_tokens': 4019, 'output_tokens': 331, 'total_tokens': 4350, 'input_token_details': {'audio': 0, 'cache_read': 0}, 'output_token_details': {'audio': 0, 'reasoning': 0}})]\n",
            "\n",
            "\n",
            "\n"
          ]
        }
      ],
      "source": [
        "inputs = {\"messages\" : [HumanMessage(content=\"Related to machine learning, what is LoRA? Also, who is Tim Dettmers? Also, what is Attention?\")]}\n",
        "\n",
        "async for chunk in agent_with_helpfulness_check.astream(inputs, stream_mode=\"updates\"):\n",
        "    for node, values in chunk.items():\n",
        "        print(f\"Receiving update from node: '{node}'\")\n",
        "        print(values[\"messages\"])\n",
        "        print(\"\\n\\n\")"
      ]
    },
    {
      "cell_type": "markdown",
      "metadata": {
        "id": "yVmZPs6lnpsM"
      },
      "source": [
        "### Task 4: LangGraph for the \"Patterns\" of GenAI\n",
        "\n",
        "Let's ask our system about the 4 patterns of Generative AI:\n",
        "\n",
        "1. Prompt Engineering\n",
        "2. RAG\n",
        "3. Fine-tuning\n",
        "4. Agents"
      ]
    },
    {
      "cell_type": "code",
      "execution_count": 38,
      "metadata": {
        "id": "ZoLl7GlXoae-"
      },
      "outputs": [],
      "source": [
        "patterns = [\"prompt engineering\", \"RAG\", \"fine-tuning\", \"LLM-based agents\"]"
      ]
    },
    {
      "cell_type": "code",
      "execution_count": 39,
      "metadata": {
        "colab": {
          "base_uri": "https://localhost:8080/"
        },
        "id": "Zkh0YJuCp3Zl",
        "outputId": "d847426e-71b3-47e6-b1ae-351a78d68d1e"
      },
      "outputs": [
        {
          "name": "stdout",
          "output_type": "stream",
          "text": [
            "Prompt engineering is the practice of designing and refining prompts to effectively communicate with and elicit desired responses from AI language models like GPT-3 and GPT-4. It involves crafting specific, clear, and contextually appropriate prompts to improve the quality, relevance, and accuracy of the AI's outputs. Prompt engineering is essential for maximizing the utility of AI models in various applications, including content creation, coding, data analysis, and more.\n",
            "\n",
            "Prompt engineering began gaining significant attention around 2020-2021, coinciding with the rise of large language models and their increasing adoption across industries. As these models became more powerful and versatile, the need for effective prompt design became evident, leading to the emergence of prompt engineering as a recognized discipline within AI and machine learning communities. The term and its practices have continued to evolve rapidly, especially with the release of more advanced models like GPT-4.\n",
            "\n",
            "Would you like more detailed information on its history or practical techniques?\n",
            "\n",
            "\n",
            "\n",
            "RAG, which stands for Retrieval-Augmented Generation, is a technique in natural language processing that combines pre-trained language models with information retrieval systems. This approach allows models to access and incorporate external knowledge from a large corpus of documents or databases, enhancing their ability to generate accurate and contextually relevant responses, especially for tasks requiring up-to-date or specialized information.\n",
            "\n",
            "RAG was introduced by researchers at Facebook AI (now Meta AI) in a paper published in 2020. It marked a significant advancement in the field by enabling language models to retrieve relevant documents dynamically during the generation process, rather than relying solely on their internal knowledge.\n",
            "\n",
            "Would you like a detailed explanation of how RAG works or its impact on AI applications?\n",
            "\n",
            "\n",
            "\n",
            "Fine-tuning is a process in machine learning where a pre-trained model is further trained on a specific dataset to adapt it to a particular task or domain. This approach leverages the knowledge the model has already acquired during its initial training on large, general datasets, and then refines it to improve performance on specialized tasks. Fine-tuning typically involves adjusting the model's weights through additional training epochs on the new data, often with a smaller learning rate to make subtle adjustments.\n",
            "\n",
            "The concept of fine-tuning has been around for quite some time in the machine learning community, especially in fields like natural language processing and computer vision. However, it gained significant prominence and \"broke onto the scene\" with the rise of large pre-trained models such as BERT (Bidirectional Encoder Representations from Transformers) in 2018, and later with models like GPT (Generative Pre-trained Transformer) series, starting with GPT-2 in 2019 and GPT-3 in 2020. These models demonstrated that large-scale pre-training followed by fine-tuning could achieve state-of-the-art results across a wide range of tasks, revolutionizing the field and making fine-tuning a standard practice in AI development.\n",
            "\n",
            "Would you like more detailed historical context or technical insights into the fine-tuning process?\n",
            "\n",
            "\n",
            "\n",
            "LLM-based agents are intelligent systems that utilize large language models (LLMs) to perform a variety of tasks, such as understanding natural language, generating human-like text, and making decisions or taking actions based on the input they receive. These agents leverage the capabilities of LLMs like GPT-3, GPT-4, and similar models to interact with users, automate processes, and solve complex problems across different domains.\n",
            "\n",
            "The concept of LLM-based agents started gaining significant attention around 2020-2021, as large language models became more powerful and accessible. The release of OpenAI's GPT-3 in June 2020 marked a major milestone, enabling the development of more sophisticated language-based applications and agents. Since then, the field has rapidly evolved, with numerous advancements in model architecture, training techniques, and applications, leading to widespread adoption and the emergence of specialized LLM-based agents in various industries.\n",
            "\n",
            "Would you like more detailed information on the history, development, or specific applications of LLM-based agents?\n",
            "\n",
            "\n",
            "\n"
          ]
        }
      ],
      "source": [
        "for pattern in patterns:\n",
        "  what_is_string = f\"What is {pattern} and when did it break onto the scene??\"\n",
        "  inputs = {\"messages\" : [HumanMessage(content=what_is_string)]}\n",
        "  messages = agent_with_helpfulness_check.invoke(inputs)\n",
        "  print(messages[\"messages\"][-1].content)\n",
        "  print(\"\\n\\n\")"
      ]
    }
  ],
  "metadata": {
    "colab": {
      "provenance": []
    },
    "kernelspec": {
      "display_name": ".venv",
      "language": "python",
      "name": "python3"
    },
    "language_info": {
      "codemirror_mode": {
        "name": "ipython",
        "version": 3
      },
      "file_extension": ".py",
      "mimetype": "text/x-python",
      "name": "python",
      "nbconvert_exporter": "python",
      "pygments_lexer": "ipython3",
      "version": "3.13.5"
    }
  },
  "nbformat": 4,
  "nbformat_minor": 0
}
